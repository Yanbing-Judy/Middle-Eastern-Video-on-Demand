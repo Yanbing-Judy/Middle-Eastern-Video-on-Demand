{
 "cells": [
  {
   "cell_type": "markdown",
   "id": "8e43619b",
   "metadata": {},
   "source": [
    "# Middle Eastern Video on Demand\n",
    "\n",
    "Digital Marketing Analytics, Fall 2022, Final project\n",
    "\n",
    "Name: Judy Yanbing Zhu\n",
    "\n",
    "Due Date: Dec. 16, 2022"
   ]
  },
  {
   "cell_type": "markdown",
   "id": "0b4c446f",
   "metadata": {},
   "source": [
    "## Preparation"
   ]
  },
  {
   "cell_type": "code",
   "execution_count": 1,
   "id": "3fa227b6",
   "metadata": {},
   "outputs": [],
   "source": [
    "import numpy as np\n",
    "import pandas as pd\n",
    "import datetime\n",
    "\n",
    "import scipy.stats as stats\n",
    "import statsmodels.stats.api as sms\n",
    "from scipy.stats import norm\n",
    "\n",
    "# plot\n",
    "from matplotlib import pyplot as plt\n",
    "import seaborn as sns\n",
    "\n",
    "import warnings\n",
    "warnings.filterwarnings('ignore')"
   ]
  },
  {
   "cell_type": "code",
   "execution_count": 2,
   "id": "bd9c475f",
   "metadata": {},
   "outputs": [],
   "source": [
    "subscribers = pd.read_pickle('subscribers')\n",
    "subscribers_csv = pd.read_csv('Copy of subscribers.csv')\n",
    "subscribers_xlsx = pd.read_excel('Copy of subscribers.xlsx')\n",
    "\n",
    "engagement = pd.read_pickle ('engagement')\n",
    "customer_service_reps = pd.read_pickle('customer_service_reps')\n",
    "\n",
    "ad_spend = pd.read_excel('advertising_spend_data_without_header.xlsx')\n",
    "channel_spend_grad = pd.read_csv('Copy of channel_spend_graduate.csv')"
   ]
  },
  {
   "cell_type": "code",
   "execution_count": 3,
   "id": "727de6ee",
   "metadata": {
    "scrolled": false
   },
   "outputs": [
    {
     "name": "stdout",
     "output_type": "stream",
     "text": [
      "subscribers pickle data shape (227628, 29)\n",
      "subscribers csv (227628, 31)\n",
      "subscribers xlxs (227628, 31)\n",
      "engagement data shape (2585724, 9)\n",
      "customer service reps data shape (2208643, 13)\n",
      "ad_spend data shape (10, 9)\n",
      "channel_spend_grad data shape (40, 3)\n"
     ]
    }
   ],
   "source": [
    "# data dimensions\n",
    "print('subscribers pickle data shape',subscribers.shape)\n",
    "print('subscribers csv',subscribers_csv.shape)\n",
    "print('subscribers xlxs',subscribers_xlsx.shape)\n",
    "print('engagement data shape',engagement.shape)\n",
    "print('customer service reps data shape',customer_service_reps.shape)\n",
    "print('ad_spend data shape',ad_spend.shape)\n",
    "print('channel_spend_grad data shape',channel_spend_grad.shape)"
   ]
  },
  {
   "cell_type": "markdown",
   "id": "e4d51380",
   "metadata": {},
   "source": [
    "## Data Processing and Description"
   ]
  },
  {
   "cell_type": "markdown",
   "id": "4e31090d",
   "metadata": {},
   "source": [
    "### Subscribers"
   ]
  },
  {
   "cell_type": "code",
   "execution_count": 4,
   "id": "d68f7f04",
   "metadata": {
    "scrolled": true
   },
   "outputs": [
    {
     "data": {
      "text/html": [
       "<div>\n",
       "<style scoped>\n",
       "    .dataframe tbody tr th:only-of-type {\n",
       "        vertical-align: middle;\n",
       "    }\n",
       "\n",
       "    .dataframe tbody tr th {\n",
       "        vertical-align: top;\n",
       "    }\n",
       "\n",
       "    .dataframe thead th {\n",
       "        text-align: right;\n",
       "    }\n",
       "</style>\n",
       "<table border=\"1\" class=\"dataframe\">\n",
       "  <thead>\n",
       "    <tr style=\"text-align: right;\">\n",
       "      <th></th>\n",
       "      <th>subid</th>\n",
       "      <th>package_type</th>\n",
       "      <th>num_weekly_services_utilized</th>\n",
       "      <th>preferred_genre</th>\n",
       "      <th>intended_use</th>\n",
       "      <th>weekly_consumption_hour</th>\n",
       "      <th>num_ideal_streaming_services</th>\n",
       "      <th>retarget_TF</th>\n",
       "      <th>age</th>\n",
       "      <th>male_TF</th>\n",
       "      <th>...</th>\n",
       "      <th>creation_until_cancel_days</th>\n",
       "      <th>cancel_before_trial_end</th>\n",
       "      <th>trial_end_date</th>\n",
       "      <th>initial_credit_card_declined</th>\n",
       "      <th>revenue_net</th>\n",
       "      <th>join_fee</th>\n",
       "      <th>language</th>\n",
       "      <th>paid_TF</th>\n",
       "      <th>refund_after_trial_TF</th>\n",
       "      <th>payment_type</th>\n",
       "    </tr>\n",
       "  </thead>\n",
       "  <tbody>\n",
       "    <tr>\n",
       "      <th>162502</th>\n",
       "      <td>21724479</td>\n",
       "      <td>economy</td>\n",
       "      <td>NaN</td>\n",
       "      <td>comedy</td>\n",
       "      <td>access to exclusive content</td>\n",
       "      <td>NaN</td>\n",
       "      <td>NaN</td>\n",
       "      <td>False</td>\n",
       "      <td>NaN</td>\n",
       "      <td>False</td>\n",
       "      <td>...</td>\n",
       "      <td>NaN</td>\n",
       "      <td>True</td>\n",
       "      <td>2020-02-08</td>\n",
       "      <td>False</td>\n",
       "      <td>NaN</td>\n",
       "      <td>NaN</td>\n",
       "      <td>ar</td>\n",
       "      <td>True</td>\n",
       "      <td>False</td>\n",
       "      <td>Standard Charter</td>\n",
       "    </tr>\n",
       "    <tr>\n",
       "      <th>380374</th>\n",
       "      <td>23383224</td>\n",
       "      <td>base</td>\n",
       "      <td>NaN</td>\n",
       "      <td>comedy</td>\n",
       "      <td>access to exclusive content</td>\n",
       "      <td>22.951579</td>\n",
       "      <td>NaN</td>\n",
       "      <td>False</td>\n",
       "      <td>70.0</td>\n",
       "      <td>False</td>\n",
       "      <td>...</td>\n",
       "      <td>0.0</td>\n",
       "      <td>False</td>\n",
       "      <td>2020-03-16</td>\n",
       "      <td>False</td>\n",
       "      <td>0.0</td>\n",
       "      <td>0.3303</td>\n",
       "      <td>ar</td>\n",
       "      <td>False</td>\n",
       "      <td>False</td>\n",
       "      <td>NaN</td>\n",
       "    </tr>\n",
       "    <tr>\n",
       "      <th>496617</th>\n",
       "      <td>26844789</td>\n",
       "      <td>enhanced</td>\n",
       "      <td>3.362885</td>\n",
       "      <td>regional</td>\n",
       "      <td>replace OTT</td>\n",
       "      <td>36.001186</td>\n",
       "      <td>1.951776</td>\n",
       "      <td>False</td>\n",
       "      <td>25.0</td>\n",
       "      <td>True</td>\n",
       "      <td>...</td>\n",
       "      <td>1.0</td>\n",
       "      <td>False</td>\n",
       "      <td>2019-12-22</td>\n",
       "      <td>False</td>\n",
       "      <td>0.0</td>\n",
       "      <td>0.1101</td>\n",
       "      <td>ar</td>\n",
       "      <td>False</td>\n",
       "      <td>False</td>\n",
       "      <td>NaN</td>\n",
       "    </tr>\n",
       "    <tr>\n",
       "      <th>356799</th>\n",
       "      <td>29417030</td>\n",
       "      <td>base</td>\n",
       "      <td>NaN</td>\n",
       "      <td>drama</td>\n",
       "      <td>replace OTT</td>\n",
       "      <td>20.051667</td>\n",
       "      <td>NaN</td>\n",
       "      <td>False</td>\n",
       "      <td>30.0</td>\n",
       "      <td>False</td>\n",
       "      <td>...</td>\n",
       "      <td>0.0</td>\n",
       "      <td>False</td>\n",
       "      <td>2020-02-11</td>\n",
       "      <td>False</td>\n",
       "      <td>0.0</td>\n",
       "      <td>0.0367</td>\n",
       "      <td>ar</td>\n",
       "      <td>False</td>\n",
       "      <td>False</td>\n",
       "      <td>NaN</td>\n",
       "    </tr>\n",
       "    <tr>\n",
       "      <th>681701</th>\n",
       "      <td>26723159</td>\n",
       "      <td>base</td>\n",
       "      <td>3.731089</td>\n",
       "      <td>comedy</td>\n",
       "      <td>replace OTT</td>\n",
       "      <td>22.951579</td>\n",
       "      <td>2.506384</td>\n",
       "      <td>False</td>\n",
       "      <td>28.0</td>\n",
       "      <td>False</td>\n",
       "      <td>...</td>\n",
       "      <td>9.0</td>\n",
       "      <td>False</td>\n",
       "      <td>2019-10-20</td>\n",
       "      <td>False</td>\n",
       "      <td>0.0</td>\n",
       "      <td>0.0367</td>\n",
       "      <td>ar</td>\n",
       "      <td>False</td>\n",
       "      <td>False</td>\n",
       "      <td>NaN</td>\n",
       "    </tr>\n",
       "  </tbody>\n",
       "</table>\n",
       "<p>5 rows × 29 columns</p>\n",
       "</div>"
      ],
      "text/plain": [
       "           subid package_type  num_weekly_services_utilized preferred_genre  \\\n",
       "162502  21724479      economy                           NaN          comedy   \n",
       "380374  23383224         base                           NaN          comedy   \n",
       "496617  26844789     enhanced                      3.362885        regional   \n",
       "356799  29417030         base                           NaN           drama   \n",
       "681701  26723159         base                      3.731089          comedy   \n",
       "\n",
       "                       intended_use  weekly_consumption_hour  \\\n",
       "162502  access to exclusive content                      NaN   \n",
       "380374  access to exclusive content                22.951579   \n",
       "496617                  replace OTT                36.001186   \n",
       "356799                  replace OTT                20.051667   \n",
       "681701                  replace OTT                22.951579   \n",
       "\n",
       "        num_ideal_streaming_services  retarget_TF   age male_TF  ...  \\\n",
       "162502                           NaN        False   NaN   False  ...   \n",
       "380374                           NaN        False  70.0   False  ...   \n",
       "496617                      1.951776        False  25.0    True  ...   \n",
       "356799                           NaN        False  30.0   False  ...   \n",
       "681701                      2.506384        False  28.0   False  ...   \n",
       "\n",
       "       creation_until_cancel_days cancel_before_trial_end trial_end_date  \\\n",
       "162502                        NaN                    True     2020-02-08   \n",
       "380374                        0.0                   False     2020-03-16   \n",
       "496617                        1.0                   False     2019-12-22   \n",
       "356799                        0.0                   False     2020-02-11   \n",
       "681701                        9.0                   False     2019-10-20   \n",
       "\n",
       "       initial_credit_card_declined  revenue_net join_fee  language  paid_TF  \\\n",
       "162502                        False          NaN      NaN        ar     True   \n",
       "380374                        False          0.0   0.3303        ar    False   \n",
       "496617                        False          0.0   0.1101        ar    False   \n",
       "356799                        False          0.0   0.0367        ar    False   \n",
       "681701                        False          0.0   0.0367        ar    False   \n",
       "\n",
       "       refund_after_trial_TF      payment_type  \n",
       "162502                 False  Standard Charter  \n",
       "380374                 False               NaN  \n",
       "496617                 False               NaN  \n",
       "356799                 False               NaN  \n",
       "681701                 False               NaN  \n",
       "\n",
       "[5 rows x 29 columns]"
      ]
     },
     "execution_count": 4,
     "metadata": {},
     "output_type": "execute_result"
    }
   ],
   "source": [
    "subscribers.head()"
   ]
  },
  {
   "cell_type": "code",
   "execution_count": 5,
   "id": "0508f80d",
   "metadata": {
    "scrolled": true
   },
   "outputs": [
    {
     "data": {
      "text/html": [
       "<div>\n",
       "<style scoped>\n",
       "    .dataframe tbody tr th:only-of-type {\n",
       "        vertical-align: middle;\n",
       "    }\n",
       "\n",
       "    .dataframe tbody tr th {\n",
       "        vertical-align: top;\n",
       "    }\n",
       "\n",
       "    .dataframe thead th {\n",
       "        text-align: right;\n",
       "    }\n",
       "</style>\n",
       "<table border=\"1\" class=\"dataframe\">\n",
       "  <thead>\n",
       "    <tr style=\"text-align: right;\">\n",
       "      <th></th>\n",
       "      <th>Unnamed: 0</th>\n",
       "      <th>subid</th>\n",
       "      <th>package_type</th>\n",
       "      <th>num_weekly_services_utilized</th>\n",
       "      <th>preferred_genre</th>\n",
       "      <th>intended_use</th>\n",
       "      <th>weekly_consumption_hour</th>\n",
       "      <th>num_ideal_streaming_services</th>\n",
       "      <th>age</th>\n",
       "      <th>male_TF</th>\n",
       "      <th>...</th>\n",
       "      <th>join_fee</th>\n",
       "      <th>language</th>\n",
       "      <th>payment_type</th>\n",
       "      <th>num_trial_days</th>\n",
       "      <th>current_sub_TF</th>\n",
       "      <th>payment_period</th>\n",
       "      <th>last_payment</th>\n",
       "      <th>next_payment</th>\n",
       "      <th>cancel_date</th>\n",
       "      <th>trial_completed</th>\n",
       "    </tr>\n",
       "  </thead>\n",
       "  <tbody>\n",
       "    <tr>\n",
       "      <th>0</th>\n",
       "      <td>162502</td>\n",
       "      <td>21724479</td>\n",
       "      <td>economy</td>\n",
       "      <td>NaN</td>\n",
       "      <td>comedy</td>\n",
       "      <td>access to exclusive content</td>\n",
       "      <td>NaN</td>\n",
       "      <td>NaN</td>\n",
       "      <td>NaN</td>\n",
       "      <td>False</td>\n",
       "      <td>...</td>\n",
       "      <td>NaN</td>\n",
       "      <td>ar</td>\n",
       "      <td>Standard Charter</td>\n",
       "      <td>14</td>\n",
       "      <td>True</td>\n",
       "      <td>1</td>\n",
       "      <td>2020-02-07 21:44:16</td>\n",
       "      <td>2020-06-07 21:44:16</td>\n",
       "      <td>NaN</td>\n",
       "      <td>True</td>\n",
       "    </tr>\n",
       "    <tr>\n",
       "      <th>1</th>\n",
       "      <td>380374</td>\n",
       "      <td>23383224</td>\n",
       "      <td>base</td>\n",
       "      <td>NaN</td>\n",
       "      <td>comedy</td>\n",
       "      <td>access to exclusive content</td>\n",
       "      <td>22.951579</td>\n",
       "      <td>NaN</td>\n",
       "      <td>70.0</td>\n",
       "      <td>False</td>\n",
       "      <td>...</td>\n",
       "      <td>0.3303</td>\n",
       "      <td>ar</td>\n",
       "      <td>NaN</td>\n",
       "      <td>14</td>\n",
       "      <td>True</td>\n",
       "      <td>1</td>\n",
       "      <td>2020-03-15 15:44:35</td>\n",
       "      <td>2020-07-15 15:44:35</td>\n",
       "      <td>NaN</td>\n",
       "      <td>True</td>\n",
       "    </tr>\n",
       "    <tr>\n",
       "      <th>2</th>\n",
       "      <td>496617</td>\n",
       "      <td>26844789</td>\n",
       "      <td>enhanced</td>\n",
       "      <td>3.0</td>\n",
       "      <td>regional</td>\n",
       "      <td>replace OTT</td>\n",
       "      <td>36.001186</td>\n",
       "      <td>2.0</td>\n",
       "      <td>25.0</td>\n",
       "      <td>True</td>\n",
       "      <td>...</td>\n",
       "      <td>0.1101</td>\n",
       "      <td>ar</td>\n",
       "      <td>NaN</td>\n",
       "      <td>14</td>\n",
       "      <td>False</td>\n",
       "      <td>0</td>\n",
       "      <td>NaN</td>\n",
       "      <td>NaN</td>\n",
       "      <td>NaN</td>\n",
       "      <td>True</td>\n",
       "    </tr>\n",
       "    <tr>\n",
       "      <th>3</th>\n",
       "      <td>356799</td>\n",
       "      <td>29417030</td>\n",
       "      <td>base</td>\n",
       "      <td>NaN</td>\n",
       "      <td>drama</td>\n",
       "      <td>replace OTT</td>\n",
       "      <td>20.051667</td>\n",
       "      <td>NaN</td>\n",
       "      <td>30.0</td>\n",
       "      <td>False</td>\n",
       "      <td>...</td>\n",
       "      <td>0.0367</td>\n",
       "      <td>ar</td>\n",
       "      <td>NaN</td>\n",
       "      <td>14</td>\n",
       "      <td>False</td>\n",
       "      <td>0</td>\n",
       "      <td>NaN</td>\n",
       "      <td>NaN</td>\n",
       "      <td>NaN</td>\n",
       "      <td>True</td>\n",
       "    </tr>\n",
       "    <tr>\n",
       "      <th>4</th>\n",
       "      <td>681701</td>\n",
       "      <td>26723159</td>\n",
       "      <td>base</td>\n",
       "      <td>4.0</td>\n",
       "      <td>comedy</td>\n",
       "      <td>replace OTT</td>\n",
       "      <td>22.951579</td>\n",
       "      <td>3.0</td>\n",
       "      <td>28.0</td>\n",
       "      <td>False</td>\n",
       "      <td>...</td>\n",
       "      <td>0.0367</td>\n",
       "      <td>ar</td>\n",
       "      <td>NaN</td>\n",
       "      <td>14</td>\n",
       "      <td>True</td>\n",
       "      <td>2</td>\n",
       "      <td>2020-02-19 12:57:07</td>\n",
       "      <td>2020-06-19 12:57:07</td>\n",
       "      <td>NaN</td>\n",
       "      <td>True</td>\n",
       "    </tr>\n",
       "  </tbody>\n",
       "</table>\n",
       "<p>5 rows × 31 columns</p>\n",
       "</div>"
      ],
      "text/plain": [
       "   Unnamed: 0     subid package_type  num_weekly_services_utilized  \\\n",
       "0      162502  21724479      economy                           NaN   \n",
       "1      380374  23383224         base                           NaN   \n",
       "2      496617  26844789     enhanced                           3.0   \n",
       "3      356799  29417030         base                           NaN   \n",
       "4      681701  26723159         base                           4.0   \n",
       "\n",
       "  preferred_genre                 intended_use  weekly_consumption_hour  \\\n",
       "0          comedy  access to exclusive content                      NaN   \n",
       "1          comedy  access to exclusive content                22.951579   \n",
       "2        regional                  replace OTT                36.001186   \n",
       "3           drama                  replace OTT                20.051667   \n",
       "4          comedy                  replace OTT                22.951579   \n",
       "\n",
       "   num_ideal_streaming_services   age male_TF  ... join_fee language  \\\n",
       "0                           NaN   NaN   False  ...      NaN       ar   \n",
       "1                           NaN  70.0   False  ...   0.3303       ar   \n",
       "2                           2.0  25.0    True  ...   0.1101       ar   \n",
       "3                           NaN  30.0   False  ...   0.0367       ar   \n",
       "4                           3.0  28.0   False  ...   0.0367       ar   \n",
       "\n",
       "       payment_type num_trial_days  current_sub_TF payment_period  \\\n",
       "0  Standard Charter             14            True              1   \n",
       "1               NaN             14            True              1   \n",
       "2               NaN             14           False              0   \n",
       "3               NaN             14           False              0   \n",
       "4               NaN             14            True              2   \n",
       "\n",
       "          last_payment         next_payment cancel_date trial_completed  \n",
       "0  2020-02-07 21:44:16  2020-06-07 21:44:16         NaN            True  \n",
       "1  2020-03-15 15:44:35  2020-07-15 15:44:35         NaN            True  \n",
       "2                  NaN                  NaN         NaN            True  \n",
       "3                  NaN                  NaN         NaN            True  \n",
       "4  2020-02-19 12:57:07  2020-06-19 12:57:07         NaN            True  \n",
       "\n",
       "[5 rows x 31 columns]"
      ]
     },
     "execution_count": 5,
     "metadata": {},
     "output_type": "execute_result"
    }
   ],
   "source": [
    "subscribers_csv.head()"
   ]
  },
  {
   "cell_type": "code",
   "execution_count": 6,
   "id": "e3e44d8e",
   "metadata": {},
   "outputs": [
    {
     "data": {
      "text/plain": [
       "Unnamed: 0                           0\n",
       "subid                                0\n",
       "package_type                     35574\n",
       "num_weekly_services_utilized    110450\n",
       "preferred_genre                  36326\n",
       "intended_use                      3549\n",
       "weekly_consumption_hour          37930\n",
       "num_ideal_streaming_services    112170\n",
       "age                              35169\n",
       "male_TF                            269\n",
       "country                              0\n",
       "attribution_technical                0\n",
       "attribution_survey                2644\n",
       "op_sys                           13375\n",
       "months_per_bill_period               0\n",
       "plan_type                            0\n",
       "monthly_price                        0\n",
       "discount_price                       0\n",
       "account_creation_date                0\n",
       "trial_end_date                       0\n",
       "initial_credit_card_declined         0\n",
       "join_fee                         34904\n",
       "language                             0\n",
       "payment_type                    135578\n",
       "num_trial_days                       0\n",
       "current_sub_TF                       0\n",
       "payment_period                       0\n",
       "last_payment                     95391\n",
       "next_payment                     97378\n",
       "cancel_date                     190797\n",
       "trial_completed                      0\n",
       "dtype: int64"
      ]
     },
     "execution_count": 6,
     "metadata": {},
     "output_type": "execute_result"
    }
   ],
   "source": [
    "sub_df = subscribers_csv.copy()\n",
    "# check null values\n",
    "sub_df.isnull().sum()"
   ]
  },
  {
   "cell_type": "code",
   "execution_count": 7,
   "id": "6fd434b9",
   "metadata": {
    "scrolled": true
   },
   "outputs": [
    {
     "data": {
      "text/plain": [
       "True"
      ]
     },
     "execution_count": 7,
     "metadata": {},
     "output_type": "execute_result"
    }
   ],
   "source": [
    "sub_df['subid'].is_unique"
   ]
  },
  {
   "cell_type": "code",
   "execution_count": 83,
   "id": "d6e3b6e3",
   "metadata": {
    "scrolled": true
   },
   "outputs": [
    {
     "data": {
      "text/plain": [
       "True     130250\n",
       "False     97378\n",
       "Name: current_sub_TF, dtype: int64"
      ]
     },
     "execution_count": 83,
     "metadata": {},
     "output_type": "execute_result"
    }
   ],
   "source": [
    "sub_df['current_sub_TF'].value_counts()"
   ]
  },
  {
   "cell_type": "code",
   "execution_count": 10,
   "id": "e8eda46d",
   "metadata": {
    "scrolled": false
   },
   "outputs": [
    {
     "name": "stdout",
     "output_type": "stream",
     "text": [
      "UAE    227628\n",
      "Name: country, dtype: int64\n",
      "ar    227628\n",
      "Name: language, dtype: int64\n"
     ]
    }
   ],
   "source": [
    "print(sub_df['country'].value_counts())\n",
    "print(sub_df['language'].value_counts())"
   ]
  },
  {
   "cell_type": "code",
   "execution_count": 11,
   "id": "837820c4",
   "metadata": {},
   "outputs": [
    {
     "data": {
      "text/html": [
       "<div>\n",
       "<style scoped>\n",
       "    .dataframe tbody tr th:only-of-type {\n",
       "        vertical-align: middle;\n",
       "    }\n",
       "\n",
       "    .dataframe tbody tr th {\n",
       "        vertical-align: top;\n",
       "    }\n",
       "\n",
       "    .dataframe thead th {\n",
       "        text-align: right;\n",
       "    }\n",
       "</style>\n",
       "<table border=\"1\" class=\"dataframe\">\n",
       "  <thead>\n",
       "    <tr style=\"text-align: right;\">\n",
       "      <th></th>\n",
       "      <th>total number</th>\n",
       "      <th>converted number</th>\n",
       "      <th>conversion rate(%)</th>\n",
       "    </tr>\n",
       "  </thead>\n",
       "  <tbody>\n",
       "    <tr>\n",
       "      <th>access to exclusive content</th>\n",
       "      <td>89039</td>\n",
       "      <td>72106</td>\n",
       "      <td>80.982491</td>\n",
       "    </tr>\n",
       "    <tr>\n",
       "      <th>replace OTT</th>\n",
       "      <td>69185</td>\n",
       "      <td>27324</td>\n",
       "      <td>39.494110</td>\n",
       "    </tr>\n",
       "    <tr>\n",
       "      <th>supplement OTT</th>\n",
       "      <td>26603</td>\n",
       "      <td>21598</td>\n",
       "      <td>81.186332</td>\n",
       "    </tr>\n",
       "    <tr>\n",
       "      <th>expand regional access</th>\n",
       "      <td>14025</td>\n",
       "      <td>2075</td>\n",
       "      <td>14.795009</td>\n",
       "    </tr>\n",
       "    <tr>\n",
       "      <th>expand international access</th>\n",
       "      <td>12978</td>\n",
       "      <td>1786</td>\n",
       "      <td>13.761751</td>\n",
       "    </tr>\n",
       "    <tr>\n",
       "      <th>other</th>\n",
       "      <td>7112</td>\n",
       "      <td>3154</td>\n",
       "      <td>44.347582</td>\n",
       "    </tr>\n",
       "    <tr>\n",
       "      <th>education</th>\n",
       "      <td>5137</td>\n",
       "      <td>667</td>\n",
       "      <td>12.984232</td>\n",
       "    </tr>\n",
       "  </tbody>\n",
       "</table>\n",
       "</div>"
      ],
      "text/plain": [
       "                             total number  converted number  \\\n",
       "access to exclusive content         89039             72106   \n",
       "replace OTT                         69185             27324   \n",
       "supplement OTT                      26603             21598   \n",
       "expand regional access              14025              2075   \n",
       "expand international access         12978              1786   \n",
       "other                                7112              3154   \n",
       "education                            5137               667   \n",
       "\n",
       "                             conversion rate(%)  \n",
       "access to exclusive content           80.982491  \n",
       "replace OTT                           39.494110  \n",
       "supplement OTT                        81.186332  \n",
       "expand regional access                14.795009  \n",
       "expand international access           13.761751  \n",
       "other                                 44.347582  \n",
       "education                             12.984232  "
      ]
     },
     "execution_count": 11,
     "metadata": {},
     "output_type": "execute_result"
    }
   ],
   "source": [
    "intention_total = sub_df['intended_use'].value_counts()\n",
    "intention_current = sub_df[sub_df['current_sub_TF'] == True][\"intended_use\"].value_counts()\n",
    "intention =pd.concat([intention_total,intention_current],axis=1)\n",
    "intention.columns = [\"total number\",\"converted number\"]\n",
    "intention[\"conversion rate(%)\"] = intention[\"converted number\"]/intention[\"total number\"]*100\n",
    "intention"
   ]
  },
  {
   "cell_type": "code",
   "execution_count": 12,
   "id": "38a91488",
   "metadata": {},
   "outputs": [
    {
     "data": {
      "text/plain": [
       "base        11758\n",
       "enhanced     8563\n",
       "economy      1277\n",
       "Name: package_type, dtype: int64"
      ]
     },
     "execution_count": 12,
     "metadata": {},
     "output_type": "execute_result"
    }
   ],
   "source": [
    "sub_df[(sub_df['current_sub_TF'] == True)&\\\n",
    "       (sub_df[\"intended_use\"] == 'supplement OTT')]['package_type'].value_counts()"
   ]
  },
  {
   "cell_type": "code",
   "execution_count": 13,
   "id": "e51e4608",
   "metadata": {
    "scrolled": true
   },
   "outputs": [
    {
     "data": {
      "text/plain": [
       "enhanced    13886\n",
       "base        12618\n",
       "economy       820\n",
       "Name: package_type, dtype: int64"
      ]
     },
     "execution_count": 13,
     "metadata": {},
     "output_type": "execute_result"
    }
   ],
   "source": [
    "sub_df[(sub_df['current_sub_TF'] == True)&\\\n",
    "       (sub_df[\"intended_use\"] == ('supplement OTT' and'replace OTT'))]['package_type'].value_counts()"
   ]
  },
  {
   "cell_type": "code",
   "execution_count": 14,
   "id": "9b0a5d1b",
   "metadata": {},
   "outputs": [
    {
     "data": {
      "text/plain": [
       "base        24381\n",
       "enhanced    13153\n",
       "economy      4326\n",
       "Name: package_type, dtype: int64"
      ]
     },
     "execution_count": 14,
     "metadata": {},
     "output_type": "execute_result"
    }
   ],
   "source": [
    "sub_df[(sub_df['current_sub_TF'] == False)&\\\n",
    "       (sub_df[\"intended_use\"] == ('supplement OTT'and'replace OTT'))]['package_type'].value_counts()"
   ]
  },
  {
   "cell_type": "code",
   "execution_count": 15,
   "id": "0a065155",
   "metadata": {},
   "outputs": [],
   "source": [
    "# convert account creation date format\n",
    "sub_df.account_creation_date = pd.to_datetime(sub_df.account_creation_date, format='%Y-%m-%d')\n",
    "sub_df.account_creation_date = sub_df.account_creation_date.apply(lambda x: datetime.date(year=x.year, month=x.month, day=x.day))\n"
   ]
  },
  {
   "cell_type": "code",
   "execution_count": 16,
   "id": "79fb207a",
   "metadata": {
    "scrolled": false
   },
   "outputs": [
    {
     "data": {
      "image/png": "[encoded data removed]",
      "text/plain": [
       "<Figure size 1440x360 with 1 Axes>"
      ]
     },
     "metadata": {
      "needs_background": "light"
     },
     "output_type": "display_data"
    }
   ],
   "source": [
    "plt.figure(figsize=(20, 5))\n",
    "\n",
    "sub_df['account_creation_date'].hist(bins=50)\n",
    "\n",
    "plt.title('Account Creation Date')\n",
    "plt.show()\n"
   ]
  },
  {
   "cell_type": "code",
   "execution_count": 17,
   "id": "ebeb7aca",
   "metadata": {},
   "outputs": [
    {
     "data": {
      "text/plain": [
       "50.0    6355\n",
       "40.0    5509\n",
       "60.0    5221\n",
       "48.0    4651\n",
       "47.0    4517\n",
       "Name: age, dtype: int64"
      ]
     },
     "execution_count": 17,
     "metadata": {},
     "output_type": "execute_result"
    }
   ],
   "source": [
    "sub_df['age'].value_counts().head()\n",
    "# sub_df['age'].min()\n",
    "# sub_df['age'].max()"
   ]
  },
  {
   "cell_type": "code",
   "execution_count": 18,
   "id": "d80ae683",
   "metadata": {
    "scrolled": true
   },
   "outputs": [
    {
     "data": {
      "text/plain": [
       "base        111464\n",
       "enhanced     63241\n",
       "economy      17349\n",
       "Name: package_type, dtype: int64"
      ]
     },
     "execution_count": 18,
     "metadata": {},
     "output_type": "execute_result"
    }
   ],
   "source": [
    "sub_df['package_type'].value_counts()"
   ]
  },
  {
   "cell_type": "code",
   "execution_count": 19,
   "id": "1c43a3eb",
   "metadata": {
    "scrolled": false
   },
   "outputs": [
    {
     "data": {
      "text/plain": [
       "base_uae_14_day_trial                227096\n",
       "high_uae_14_day_trial                   325\n",
       "low_uae_no_trial                        167\n",
       "base_eur_14_day_trial                    18\n",
       "high_sar_14_day_trial                    12\n",
       "low_gbp_14_day_trial                      4\n",
       "high_aud_14_day_trial                     2\n",
       "low_eur_no_trial                          1\n",
       "base_uae_no_trial_7_day_guarantee         1\n",
       "low_sar_no_trial                          1\n",
       "high_jpy_14_day_trial                     1\n",
       "Name: plan_type, dtype: int64"
      ]
     },
     "execution_count": 19,
     "metadata": {},
     "output_type": "execute_result"
    }
   ],
   "source": [
    "sub_df['plan_type'].value_counts()"
   ]
  },
  {
   "cell_type": "code",
   "execution_count": 20,
   "id": "8732d661",
   "metadata": {
    "scrolled": true
   },
   "outputs": [
    {
     "data": {
      "text/plain": [
       "14    227458\n",
       "0        170\n",
       "Name: num_trial_days, dtype: int64"
      ]
     },
     "execution_count": 20,
     "metadata": {},
     "output_type": "execute_result"
    }
   ],
   "source": [
    "sub_df['num_trial_days'].value_counts()"
   ]
  },
  {
   "cell_type": "code",
   "execution_count": 21,
   "id": "7d52468f",
   "metadata": {},
   "outputs": [
    {
     "data": {
      "text/plain": [
       "True     200236\n",
       "False     27392\n",
       "Name: trial_completed, dtype: int64"
      ]
     },
     "execution_count": 21,
     "metadata": {},
     "output_type": "execute_result"
    }
   ],
   "source": [
    "sub_df['trial_completed'].value_counts()"
   ]
  },
  {
   "cell_type": "code",
   "execution_count": 22,
   "id": "7f8eb522",
   "metadata": {},
   "outputs": [
    {
     "data": {
      "text/html": [
       "<div>\n",
       "<style scoped>\n",
       "    .dataframe tbody tr th:only-of-type {\n",
       "        vertical-align: middle;\n",
       "    }\n",
       "\n",
       "    .dataframe tbody tr th {\n",
       "        vertical-align: top;\n",
       "    }\n",
       "\n",
       "    .dataframe thead th {\n",
       "        text-align: right;\n",
       "    }\n",
       "</style>\n",
       "<table border=\"1\" class=\"dataframe\">\n",
       "  <thead>\n",
       "    <tr style=\"text-align: right;\">\n",
       "      <th></th>\n",
       "      <th>total number</th>\n",
       "      <th>converted number</th>\n",
       "      <th>conversion rate(%)</th>\n",
       "    </tr>\n",
       "  </thead>\n",
       "  <tbody>\n",
       "    <tr>\n",
       "      <th>comedy</th>\n",
       "      <td>125129</td>\n",
       "      <td>93051</td>\n",
       "      <td>74.364056</td>\n",
       "    </tr>\n",
       "    <tr>\n",
       "      <th>drama</th>\n",
       "      <td>46872</td>\n",
       "      <td>21978</td>\n",
       "      <td>46.889401</td>\n",
       "    </tr>\n",
       "    <tr>\n",
       "      <th>regional</th>\n",
       "      <td>8990</td>\n",
       "      <td>4769</td>\n",
       "      <td>53.047831</td>\n",
       "    </tr>\n",
       "    <tr>\n",
       "      <th>international</th>\n",
       "      <td>6404</td>\n",
       "      <td>3389</td>\n",
       "      <td>52.920050</td>\n",
       "    </tr>\n",
       "    <tr>\n",
       "      <th>other</th>\n",
       "      <td>3907</td>\n",
       "      <td>1202</td>\n",
       "      <td>30.765293</td>\n",
       "    </tr>\n",
       "  </tbody>\n",
       "</table>\n",
       "</div>"
      ],
      "text/plain": [
       "               total number  converted number  conversion rate(%)\n",
       "comedy               125129             93051           74.364056\n",
       "drama                 46872             21978           46.889401\n",
       "regional               8990              4769           53.047831\n",
       "international          6404              3389           52.920050\n",
       "other                  3907              1202           30.765293"
      ]
     },
     "execution_count": 22,
     "metadata": {},
     "output_type": "execute_result"
    }
   ],
   "source": [
    "genre_total = sub_df['preferred_genre'].value_counts()\n",
    "genre_current = sub_df[sub_df['current_sub_TF'] == True][\"preferred_genre\"].value_counts()\n",
    "genre =pd.concat([genre_total,genre_current],axis=1)\n",
    "genre.columns = [\"total number\",\"converted number\"]\n",
    "genre[\"conversion rate(%)\"] = genre[\"converted number\"]/genre[\"total number\"]*100\n",
    "genre"
   ]
  },
  {
   "cell_type": "markdown",
   "id": "17c8cda0",
   "metadata": {},
   "source": [
    "### Engagement"
   ]
  },
  {
   "cell_type": "code",
   "execution_count": 23,
   "id": "1d4eaf53",
   "metadata": {
    "scrolled": false
   },
   "outputs": [
    {
     "data": {
      "text/html": [
       "<div>\n",
       "<style scoped>\n",
       "    .dataframe tbody tr th:only-of-type {\n",
       "        vertical-align: middle;\n",
       "    }\n",
       "\n",
       "    .dataframe tbody tr th {\n",
       "        vertical-align: top;\n",
       "    }\n",
       "\n",
       "    .dataframe thead th {\n",
       "        text-align: right;\n",
       "    }\n",
       "</style>\n",
       "<table border=\"1\" class=\"dataframe\">\n",
       "  <thead>\n",
       "    <tr style=\"text-align: right;\">\n",
       "      <th></th>\n",
       "      <th>subid</th>\n",
       "      <th>date</th>\n",
       "      <th>app_opens</th>\n",
       "      <th>cust_service_mssgs</th>\n",
       "      <th>num_videos_completed</th>\n",
       "      <th>num_videos_more_than_30_seconds</th>\n",
       "      <th>num_videos_rated</th>\n",
       "      <th>num_series_started</th>\n",
       "      <th>payment_period</th>\n",
       "    </tr>\n",
       "  </thead>\n",
       "  <tbody>\n",
       "    <tr>\n",
       "      <th>1</th>\n",
       "      <td>22349235</td>\n",
       "      <td>2019-07-01</td>\n",
       "      <td>1.0</td>\n",
       "      <td>1.0</td>\n",
       "      <td>0.0</td>\n",
       "      <td>6.0</td>\n",
       "      <td>0.0</td>\n",
       "      <td>0.0</td>\n",
       "      <td>0.0</td>\n",
       "    </tr>\n",
       "    <tr>\n",
       "      <th>2</th>\n",
       "      <td>22349235</td>\n",
       "      <td>2019-07-02</td>\n",
       "      <td>1.0</td>\n",
       "      <td>0.0</td>\n",
       "      <td>0.0</td>\n",
       "      <td>5.0</td>\n",
       "      <td>0.0</td>\n",
       "      <td>0.0</td>\n",
       "      <td>0.0</td>\n",
       "    </tr>\n",
       "    <tr>\n",
       "      <th>3</th>\n",
       "      <td>22349235</td>\n",
       "      <td>2019-07-03</td>\n",
       "      <td>0.0</td>\n",
       "      <td>1.0</td>\n",
       "      <td>0.0</td>\n",
       "      <td>0.0</td>\n",
       "      <td>0.0</td>\n",
       "      <td>0.0</td>\n",
       "      <td>0.0</td>\n",
       "    </tr>\n",
       "    <tr>\n",
       "      <th>50</th>\n",
       "      <td>20848497</td>\n",
       "      <td>2019-07-02</td>\n",
       "      <td>1.0</td>\n",
       "      <td>0.0</td>\n",
       "      <td>7.0</td>\n",
       "      <td>7.0</td>\n",
       "      <td>0.0</td>\n",
       "      <td>0.0</td>\n",
       "      <td>0.0</td>\n",
       "    </tr>\n",
       "    <tr>\n",
       "      <th>51</th>\n",
       "      <td>22680106</td>\n",
       "      <td>2019-07-02</td>\n",
       "      <td>2.0</td>\n",
       "      <td>1.0</td>\n",
       "      <td>7.0</td>\n",
       "      <td>7.0</td>\n",
       "      <td>0.0</td>\n",
       "      <td>1.0</td>\n",
       "      <td>0.0</td>\n",
       "    </tr>\n",
       "  </tbody>\n",
       "</table>\n",
       "</div>"
      ],
      "text/plain": [
       "       subid       date  app_opens  cust_service_mssgs  num_videos_completed  \\\n",
       "1   22349235 2019-07-01        1.0                 1.0                   0.0   \n",
       "2   22349235 2019-07-02        1.0                 0.0                   0.0   \n",
       "3   22349235 2019-07-03        0.0                 1.0                   0.0   \n",
       "50  20848497 2019-07-02        1.0                 0.0                   7.0   \n",
       "51  22680106 2019-07-02        2.0                 1.0                   7.0   \n",
       "\n",
       "    num_videos_more_than_30_seconds  num_videos_rated  num_series_started  \\\n",
       "1                               6.0               0.0                 0.0   \n",
       "2                               5.0               0.0                 0.0   \n",
       "3                               0.0               0.0                 0.0   \n",
       "50                              7.0               0.0                 0.0   \n",
       "51                              7.0               0.0                 1.0   \n",
       "\n",
       "    payment_period  \n",
       "1              0.0  \n",
       "2              0.0  \n",
       "3              0.0  \n",
       "50             0.0  \n",
       "51             0.0  "
      ]
     },
     "execution_count": 23,
     "metadata": {},
     "output_type": "execute_result"
    }
   ],
   "source": [
    "engagement.head()"
   ]
  },
  {
   "cell_type": "markdown",
   "id": "f1aca5b1",
   "metadata": {},
   "source": [
    "### Customer Service Reps"
   ]
  },
  {
   "cell_type": "code",
   "execution_count": 24,
   "id": "f5204b01",
   "metadata": {
    "scrolled": false
   },
   "outputs": [
    {
     "data": {
      "text/html": [
       "<div>\n",
       "<style scoped>\n",
       "    .dataframe tbody tr th:only-of-type {\n",
       "        vertical-align: middle;\n",
       "    }\n",
       "\n",
       "    .dataframe tbody tr th {\n",
       "        vertical-align: top;\n",
       "    }\n",
       "\n",
       "    .dataframe thead th {\n",
       "        text-align: right;\n",
       "    }\n",
       "</style>\n",
       "<table border=\"1\" class=\"dataframe\">\n",
       "  <thead>\n",
       "    <tr style=\"text-align: right;\">\n",
       "      <th></th>\n",
       "      <th>customer_service_rep_id</th>\n",
       "      <th>subid</th>\n",
       "      <th>current_sub_TF</th>\n",
       "      <th>cancel_date</th>\n",
       "      <th>account_creation_date</th>\n",
       "      <th>num_trial_days</th>\n",
       "      <th>trial_completed_TF</th>\n",
       "      <th>billing_channel</th>\n",
       "      <th>revenue_net_1month</th>\n",
       "      <th>payment_period</th>\n",
       "      <th>last_payment</th>\n",
       "      <th>next_payment</th>\n",
       "      <th>renew</th>\n",
       "    </tr>\n",
       "  </thead>\n",
       "  <tbody>\n",
       "    <tr>\n",
       "      <th>4</th>\n",
       "      <td>36189811</td>\n",
       "      <td>25108574</td>\n",
       "      <td>False</td>\n",
       "      <td>NaT</td>\n",
       "      <td>2019-11-26 03:30:29</td>\n",
       "      <td>7</td>\n",
       "      <td>True</td>\n",
       "      <td>itunes</td>\n",
       "      <td>1.1377</td>\n",
       "      <td>0</td>\n",
       "      <td>2019-11-26 03:30:29</td>\n",
       "      <td>2019-11-26 03:30:29</td>\n",
       "      <td>NaN</td>\n",
       "    </tr>\n",
       "    <tr>\n",
       "      <th>5</th>\n",
       "      <td>36189811</td>\n",
       "      <td>25108574</td>\n",
       "      <td>False</td>\n",
       "      <td>NaT</td>\n",
       "      <td>2019-11-26 03:30:29</td>\n",
       "      <td>7</td>\n",
       "      <td>True</td>\n",
       "      <td>itunes</td>\n",
       "      <td>1.1377</td>\n",
       "      <td>1</td>\n",
       "      <td>2019-11-26 03:30:29</td>\n",
       "      <td>2019-12-27 03:30:29</td>\n",
       "      <td>NaN</td>\n",
       "    </tr>\n",
       "    <tr>\n",
       "      <th>6</th>\n",
       "      <td>36189811</td>\n",
       "      <td>25108574</td>\n",
       "      <td>False</td>\n",
       "      <td>NaT</td>\n",
       "      <td>2019-11-26 03:30:29</td>\n",
       "      <td>7</td>\n",
       "      <td>True</td>\n",
       "      <td>itunes</td>\n",
       "      <td>1.1377</td>\n",
       "      <td>2</td>\n",
       "      <td>2019-12-27 03:30:29</td>\n",
       "      <td>2020-01-26 03:30:29</td>\n",
       "      <td>NaN</td>\n",
       "    </tr>\n",
       "    <tr>\n",
       "      <th>7</th>\n",
       "      <td>36189811</td>\n",
       "      <td>25108574</td>\n",
       "      <td>False</td>\n",
       "      <td>NaT</td>\n",
       "      <td>2019-11-26 03:30:29</td>\n",
       "      <td>7</td>\n",
       "      <td>True</td>\n",
       "      <td>itunes</td>\n",
       "      <td>1.1377</td>\n",
       "      <td>3</td>\n",
       "      <td>2020-01-26 03:30:29</td>\n",
       "      <td>NaT</td>\n",
       "      <td>NaN</td>\n",
       "    </tr>\n",
       "    <tr>\n",
       "      <th>8</th>\n",
       "      <td>31174901</td>\n",
       "      <td>25914865</td>\n",
       "      <td>True</td>\n",
       "      <td>NaT</td>\n",
       "      <td>2020-03-19 01:20:25</td>\n",
       "      <td>14</td>\n",
       "      <td>True</td>\n",
       "      <td>itunes</td>\n",
       "      <td>1.1377</td>\n",
       "      <td>0</td>\n",
       "      <td>2020-03-19 01:20:25</td>\n",
       "      <td>2020-04-02 01:20:25</td>\n",
       "      <td>NaN</td>\n",
       "    </tr>\n",
       "  </tbody>\n",
       "</table>\n",
       "</div>"
      ],
      "text/plain": [
       "   customer_service_rep_id     subid  current_sub_TF cancel_date  \\\n",
       "4                 36189811  25108574           False         NaT   \n",
       "5                 36189811  25108574           False         NaT   \n",
       "6                 36189811  25108574           False         NaT   \n",
       "7                 36189811  25108574           False         NaT   \n",
       "8                 31174901  25914865            True         NaT   \n",
       "\n",
       "  account_creation_date  num_trial_days  trial_completed_TF billing_channel  \\\n",
       "4   2019-11-26 03:30:29               7                True          itunes   \n",
       "5   2019-11-26 03:30:29               7                True          itunes   \n",
       "6   2019-11-26 03:30:29               7                True          itunes   \n",
       "7   2019-11-26 03:30:29               7                True          itunes   \n",
       "8   2020-03-19 01:20:25              14                True          itunes   \n",
       "\n",
       "   revenue_net_1month  payment_period        last_payment        next_payment  \\\n",
       "4              1.1377               0 2019-11-26 03:30:29 2019-11-26 03:30:29   \n",
       "5              1.1377               1 2019-11-26 03:30:29 2019-12-27 03:30:29   \n",
       "6              1.1377               2 2019-12-27 03:30:29 2020-01-26 03:30:29   \n",
       "7              1.1377               3 2020-01-26 03:30:29                 NaT   \n",
       "8              1.1377               0 2020-03-19 01:20:25 2020-04-02 01:20:25   \n",
       "\n",
       "  renew  \n",
       "4   NaN  \n",
       "5   NaN  \n",
       "6   NaN  \n",
       "7   NaN  \n",
       "8   NaN  "
      ]
     },
     "execution_count": 24,
     "metadata": {},
     "output_type": "execute_result"
    }
   ],
   "source": [
    "customer_service_reps.head()"
   ]
  },
  {
   "cell_type": "code",
   "execution_count": 25,
   "id": "f2eea089",
   "metadata": {},
   "outputs": [],
   "source": [
    "# customer_service_reps['num_trial_days'].value_counts()\n",
    "# customer_service_reps['billing_channel'].value_counts()"
   ]
  },
  {
   "cell_type": "markdown",
   "id": "1d1c5c93",
   "metadata": {},
   "source": [
    "## A/B Testing\n",
    "AB testing to understand what marketing strategies have been most effective to date\n",
    "* 1-side hypothesis tests for low and high two different pricing plans respectively\n",
    "* test strategy has higher conversion rate\n",
    "* null: V_base = V_low, V_base = V_high\n",
    "* H_a: V_base < V_low, V_base < V_high"
   ]
  },
  {
   "cell_type": "markdown",
   "id": "94246d52",
   "metadata": {},
   "source": [
    "### Converted Definition\n",
    "paid after trial without refund for first period. "
   ]
  },
  {
   "cell_type": "code",
   "execution_count": 26,
   "id": "383438c3",
   "metadata": {},
   "outputs": [],
   "source": [
    "# define conversion as current subscribers\n",
    "sub_df = subscribers_csv.copy()\n",
    "#sub_df = sub_df[sub_df['trial_completed'] == True]"
   ]
  },
  {
   "cell_type": "code",
   "execution_count": 27,
   "id": "2d76d73e",
   "metadata": {},
   "outputs": [],
   "source": [
    "# define conversion as first payment without refund\n",
    "sub_df = subscribers.copy()\n",
    "\n",
    "def convert(dfx):  \n",
    "    if (dfx['paid_TF']  == True) and (dfx[\"refund_after_trial_TF\"] == False):\n",
    "        return True\n",
    "    return False\n",
    "\n",
    "sub_df['current_sub_TF']  = sub_df.apply(lambda dfx: convert(dfx), axis=1)\n",
    "\n",
    "# convert account creation date format\n",
    "sub_df.account_creation_date = pd.to_datetime(sub_df.account_creation_date, format='%Y-%m-%d')\n",
    "sub_df.account_creation_date = sub_df.account_creation_date.apply(lambda x: datetime.date(year=x.year, month=x.month, day=x.day))\n"
   ]
  },
  {
   "cell_type": "code",
   "execution_count": 28,
   "id": "e497a814",
   "metadata": {},
   "outputs": [
    {
     "name": "stdout",
     "output_type": "stream",
     "text": [
      "base pring plan conversion rate 36.35%\n",
      "low pricing plan conversion rate 79.64%\n",
      "high pricing plan conversion rate 29.85%\n"
     ]
    }
   ],
   "source": [
    "base_14_total = len(sub_df[sub_df['plan_type'] == 'base_uae_14_day_trial'])\n",
    "base_14_current = len(sub_df[(sub_df['current_sub_TF'] == True) & (sub_df['plan_type'] == 'base_uae_14_day_trial')])\n",
    "base_14_p = base_14_current/base_14_total\n",
    "print(\"base pring plan conversion rate %3.2f%%\" % (base_14_p*100))\n",
    "\n",
    "low_0_total = len(sub_df[sub_df['plan_type'] == 'low_uae_no_trial'])\n",
    "low_0_current = len(sub_df[(sub_df['current_sub_TF'] == True) & (sub_df['plan_type'] == 'low_uae_no_trial')])\n",
    "low_0_p = low_0_current/low_0_total\n",
    "print(\"low pricing plan conversion rate %3.2f%%\" % (low_0_p*100))\n",
    "\n",
    "high_14_total = len(sub_df[sub_df['plan_type'] == 'high_uae_14_day_trial'])\n",
    "high_14_current = len(sub_df[(sub_df['current_sub_TF'] == True) & (sub_df['plan_type'] == 'high_uae_14_day_trial')])\n",
    "high_14_p = high_14_current/high_14_total\n",
    "print(\"high pricing plan conversion rate %3.2f%%\" % (high_14_p*100))"
   ]
  },
  {
   "cell_type": "code",
   "execution_count": 29,
   "id": "4b11c085",
   "metadata": {
    "scrolled": true
   },
   "outputs": [
    {
     "data": {
      "image/png": "[encoded data removed]",
      "text/plain": [
       "<Figure size 1440x360 with 1 Axes>"
      ]
     },
     "metadata": {
      "needs_background": "light"
     },
     "output_type": "display_data"
    },
    {
     "data": {
      "image/png": "[encoded data removed]",
      "text/plain": [
       "<Figure size 1440x360 with 1 Axes>"
      ]
     },
     "metadata": {
      "needs_background": "light"
     },
     "output_type": "display_data"
    },
    {
     "data": {
      "image/png": "[encoded data removed]",
      "text/plain": [
       "<Figure size 1440x360 with 1 Axes>"
      ]
     },
     "metadata": {
      "needs_background": "light"
     },
     "output_type": "display_data"
    }
   ],
   "source": [
    "# ALL DATA\n",
    "variantA_base_14 = sub_df.loc[sub_df['plan_type'] == 'base_uae_14_day_trial', ['account_creation_date','current_sub_TF']]\n",
    "variantB_low_0 = sub_df.loc[sub_df['plan_type'] == 'low_uae_no_trial', ['account_creation_date','current_sub_TF']]\n",
    "variantC_high_14 = sub_df.loc[sub_df['plan_type'] == 'high_uae_14_day_trial', ['account_creation_date','current_sub_TF']]\n",
    "\n",
    "plt.figure(figsize=(20, 5))\n",
    "variantA_base_14['account_creation_date'].hist(bins = 50, facecolor=\"#b08980\",alpha=0.8)\n",
    "plt.title('All Base Pricing Plan Accounts Creation Date',fontsize=14)\n",
    "plt.ylabel(\"Number of base accounts\",fontsize=14)\n",
    "plt.show()\n",
    "\n",
    "plt.figure(figsize=(20, 5))\n",
    "variantB_low_0['account_creation_date'].hist(facecolor=\"#5f4933\",alpha=0.7)\n",
    "plt.title('All Low Pricing Plan Accounts Creation Date',fontsize=14)\n",
    "plt.ylabel(\"Number of low  pricing accounts\",fontsize=14)\n",
    "plt.show()\n",
    "\n",
    "plt.figure(figsize=(20, 5))\n",
    "variantC_high_14['account_creation_date'].hist(facecolor=\"#382914\",alpha=0.7)\n",
    "plt.title('All High Pricing Plan Accounts Creation Date',fontsize=14)\n",
    "plt.ylabel(\"Number of high pricing accounts\",fontsize=14)\n",
    "plt.show()\n"
   ]
  },
  {
   "cell_type": "code",
   "execution_count": 30,
   "id": "bd619b04",
   "metadata": {},
   "outputs": [
    {
     "name": "stdout",
     "output_type": "stream",
     "text": [
      "Earliest base account creation date 2019-06-30\n",
      "Latest base account creation date 2020-03-27\n",
      "Earliest low account creation date 2019-07-23\n",
      "Latest low account creation date 2019-11-24\n",
      "Earliest high account creation date 2019-11-03\n",
      "Latest high account creation date 2019-11-06\n"
     ]
    }
   ],
   "source": [
    "print(\"Earliest base account creation date\",min(variantA_base_14['account_creation_date']))\n",
    "print(\"Latest base account creation date\",max(variantA_base_14['account_creation_date']))\n",
    "print(\"Earliest low account creation date\",min(variantB_low_0['account_creation_date']))\n",
    "print(\"Latest low account creation date\",max(variantB_low_0['account_creation_date']))\n",
    "print(\"Earliest high account creation date\",min(variantC_high_14['account_creation_date']))\n",
    "print(\"Latest high account creation date\",max(variantC_high_14['account_creation_date']))"
   ]
  },
  {
   "cell_type": "code",
   "execution_count": 31,
   "id": "e8e6c3b4",
   "metadata": {},
   "outputs": [],
   "source": [
    "def calc_proportion(convert_TF):\n",
    "    return sum(convert_TF)/len(convert_TF)\n",
    "\n",
    "\n",
    "def calc_zscore(phat, p, n_f):\n",
    "    return (phat-p)/np.sqrt(p*(1-p)/n_f)\n",
    "\n",
    "\n",
    "def get_z_crit(alpha_f, num_sides_f):\n",
    "    return norm.ppf(1-(alpha_f/num_sides_f))\n",
    "\n",
    "\n",
    "def get_p_value(zscore_f, num_sides_f):\n",
    "    return (1-norm.cdf(abs(zscore_f))) * num_sides_f\n",
    "\n",
    "def reject_null(variantA_outcomes_f, variantB_outcomes_f, alpha_f, num_sides_f):\n",
    "    p_hat_f = calc_proportion(variantB_outcomes_f)\n",
    "    p_f = calc_proportion(variantA_outcomes_f)\n",
    "    n_f = len(variantB_outcomes_f)\n",
    "    z_score = calc_zscore(p_hat_f, p_f, n_f)\n",
    "    p_value = get_p_value(z_score, num_sides_f)\n",
    "    z_crit = get_z_crit(alpha_f, num_sides_f)\n",
    "    return z_score > z_crit, z_score, p_value"
   ]
  },
  {
   "cell_type": "code",
   "execution_count": 32,
   "id": "c98f79fc",
   "metadata": {},
   "outputs": [],
   "source": [
    "# set parameters\n",
    "alpha = 0.05    # significance level\n",
    "num_sides = 1   # one-sided=1\n",
    "\n",
    "# TRIAL DATA ONLY\n",
    "low_trial_start_date = datetime.date(year=2019, month=7, day=20)\n",
    "low_trial_end_date = datetime.date(year=2019, month=12, day=31)\n",
    "low_base_14 = sub_df.loc[(sub_df['plan_type'] == 'base_uae_14_day_trial')& \\\n",
    "                         (sub_df['account_creation_date'] >= low_trial_start_date) & \\\n",
    "                         (sub_df['account_creation_date'] <= low_trial_end_date)\n",
    "                         ,'current_sub_TF']\n",
    "low_low_0 = sub_df.loc[(sub_df['plan_type'] == 'low_uae_no_trial')& \\\n",
    "                       (sub_df['account_creation_date'] >= low_trial_start_date) & \\\n",
    "                       (sub_df['account_creation_date'] <= low_trial_end_date)\n",
    "                         ,'current_sub_TF']\n",
    "\n",
    "\n",
    "high_trial_start_date = datetime.date(year=2019, month=7, day=20)\n",
    "high_trial_end_date = datetime.date(year=2019, month=12, day=31)\n",
    "high_base_14 = sub_df.loc[(sub_df['plan_type'] == 'base_uae_14_day_trial')& \\\n",
    "                          (sub_df['account_creation_date'] >= high_trial_start_date) & \\\n",
    "                          (sub_df['account_creation_date'] <= high_trial_end_date)\n",
    "                         ,'current_sub_TF']\n",
    "high_high_14 = sub_df.loc[(sub_df['plan_type'] == 'high_uae_14_day_trial')& \\\n",
    "                          (sub_df['account_creation_date'] >= high_trial_start_date) & \\\n",
    "                          (sub_df['account_creation_date'] <= high_trial_end_date)\n",
    "                         ,'current_sub_TF']\n"
   ]
  },
  {
   "cell_type": "code",
   "execution_count": 33,
   "id": "5897b96a",
   "metadata": {
    "scrolled": true
   },
   "outputs": [
    {
     "name": "stdout",
     "output_type": "stream",
     "text": [
      "Conversion rate for base_14: 36.8%\n",
      "Conversion rate for low_0: 79.6%\n",
      "Using all low_0, reject null T/F: True\n",
      "z-score = 11.49 and p-value = 0.0%\n"
     ]
    }
   ],
   "source": [
    "# --- conduct tests for low pricing strategy\n",
    "reject_null_test, z_score, p_value = reject_null(low_base_14, low_low_0, alpha, num_sides)\n",
    "print('Conversion rate for base_14: %3.1f%%' % (calc_proportion(low_base_14)*100))\n",
    "print('Conversion rate for low_0: %3.1f%%' % (calc_proportion(low_low_0)*100))\n",
    "print('Using all low_0, reject null T/F: %s' % reject_null_test)\n",
    "print('z-score = %3.2f and p-value = %3.1f%%' % (z_score, p_value*100))"
   ]
  },
  {
   "cell_type": "code",
   "execution_count": 34,
   "id": "9e6b33b0",
   "metadata": {},
   "outputs": [
    {
     "name": "stdout",
     "output_type": "stream",
     "text": [
      "Conversion rate for base_14: 36.8%\n",
      "Conversion rate for high_14: 29.8%\n",
      "Using all high_14, reject null T/F: False\n",
      "z-score = -2.59 and p-value = 0.5%\n"
     ]
    }
   ],
   "source": [
    "# --- conduct tests for high pricing strategy\n",
    "reject_null_test, z_score, p_value = reject_null(high_base_14, high_high_14, alpha, num_sides)\n",
    "print('Conversion rate for base_14: %3.1f%%' % (calc_proportion(high_base_14)*100))\n",
    "print('Conversion rate for high_14: %3.1f%%' % (calc_proportion(high_high_14)*100))\n",
    "print('Using all high_14, reject null T/F: %s' % reject_null_test)\n",
    "print('z-score = %3.2f and p-value = %3.1f%%' % (z_score, p_value*100))"
   ]
  },
  {
   "cell_type": "code",
   "execution_count": 15,
   "id": "dc99ecdd",
   "metadata": {},
   "outputs": [
    {
     "name": "stdout",
     "output_type": "stream",
     "text": [
      "5.1013    325\n",
      "Name: monthly_price, dtype: int64\n",
      "5.0279    325\n",
      "Name: discount_price, dtype: int64\n"
     ]
    }
   ],
   "source": [
    "print(sub_df[sub_df['plan_type'] == 'high_uae_14_day_trial']['monthly_price'].value_counts())\n",
    "print(sub_df[sub_df['plan_type'] == 'high_uae_14_day_trial']['discount_price'].value_counts())"
   ]
  },
  {
   "cell_type": "code",
   "execution_count": 16,
   "id": "3daffd6f",
   "metadata": {},
   "outputs": [
    {
     "name": "stdout",
     "output_type": "stream",
     "text": [
      "4.7343    227096\n",
      "Name: monthly_price, dtype: int64\n",
      "4.5141    227096\n",
      "Name: discount_price, dtype: int64\n"
     ]
    }
   ],
   "source": [
    "print(sub_df[sub_df['plan_type'] == 'base_uae_14_day_trial']['monthly_price'].value_counts())\n",
    "print(sub_df[sub_df['plan_type'] == 'base_uae_14_day_trial']['discount_price'].value_counts())"
   ]
  },
  {
   "cell_type": "code",
   "execution_count": 17,
   "id": "469c0bbf",
   "metadata": {},
   "outputs": [
    {
     "name": "stdout",
     "output_type": "stream",
     "text": [
      "0.9856115107913669\n",
      "0.9534883720930232\n"
     ]
    }
   ],
   "source": [
    "print(5.0279/5.1013)\n",
    "print(4.5141/4.7343)"
   ]
  },
  {
   "cell_type": "markdown",
   "id": "0b05093c",
   "metadata": {},
   "source": [
    "## Attribution and Allocation\n",
    "spend efficiency and effectiveness, supporting the advertising team’s budget allocation for the upcoming quarter"
   ]
  },
  {
   "cell_type": "code",
   "execution_count": 4,
   "id": "aa15d7ee",
   "metadata": {},
   "outputs": [],
   "source": [
    "sub_df =subscribers_csv.copy()\n",
    "#sub_df['attribution_technical'].value_counts()\n",
    "#sub_df['attribution_survey'].value_counts()\n",
    "#att_tech = sub_df.groupby([\"attribution_technical\", \"current_sub_TF\"])[\"subid\"].count()\n",
    "#att_survey = sub_df.groupby([\"attribution_survey\", \"current_sub_TF\"])[\"subid\"].count()"
   ]
  },
  {
   "cell_type": "code",
   "execution_count": 36,
   "id": "d2b615eb",
   "metadata": {
    "scrolled": false
   },
   "outputs": [
    {
     "data": {
      "text/plain": [
       "bing        8\n",
       "display     8\n",
       "facebook    8\n",
       "search      8\n",
       "youtube     8\n",
       "Name: channel, dtype: int64"
      ]
     },
     "execution_count": 36,
     "metadata": {},
     "output_type": "execute_result"
    }
   ],
   "source": [
    "channel_spend_grad.channel.value_counts()"
   ]
  },
  {
   "cell_type": "code",
   "execution_count": 37,
   "id": "6a94914e",
   "metadata": {
    "scrolled": false
   },
   "outputs": [
    {
     "data": {
      "text/html": [
       "<div>\n",
       "<style scoped>\n",
       "    .dataframe tbody tr th:only-of-type {\n",
       "        vertical-align: middle;\n",
       "    }\n",
       "\n",
       "    .dataframe tbody tr th {\n",
       "        vertical-align: top;\n",
       "    }\n",
       "\n",
       "    .dataframe thead th {\n",
       "        text-align: right;\n",
       "    }\n",
       "</style>\n",
       "<table border=\"1\" class=\"dataframe\">\n",
       "  <thead>\n",
       "    <tr style=\"text-align: right;\">\n",
       "      <th></th>\n",
       "      <th>channel</th>\n",
       "      <th>date</th>\n",
       "      <th>spend_AED</th>\n",
       "    </tr>\n",
       "  </thead>\n",
       "  <tbody>\n",
       "    <tr>\n",
       "      <th>0</th>\n",
       "      <td>bing</td>\n",
       "      <td>201907</td>\n",
       "      <td>400</td>\n",
       "    </tr>\n",
       "    <tr>\n",
       "      <th>1</th>\n",
       "      <td>display</td>\n",
       "      <td>201907</td>\n",
       "      <td>12</td>\n",
       "    </tr>\n",
       "    <tr>\n",
       "      <th>2</th>\n",
       "      <td>facebook</td>\n",
       "      <td>201907</td>\n",
       "      <td>9000</td>\n",
       "    </tr>\n",
       "    <tr>\n",
       "      <th>3</th>\n",
       "      <td>search</td>\n",
       "      <td>201907</td>\n",
       "      <td>13000</td>\n",
       "    </tr>\n",
       "    <tr>\n",
       "      <th>4</th>\n",
       "      <td>youtube</td>\n",
       "      <td>201907</td>\n",
       "      <td>90</td>\n",
       "    </tr>\n",
       "  </tbody>\n",
       "</table>\n",
       "</div>"
      ],
      "text/plain": [
       "    channel    date  spend_AED\n",
       "0      bing  201907        400\n",
       "1   display  201907         12\n",
       "2  facebook  201907       9000\n",
       "3    search  201907      13000\n",
       "4   youtube  201907         90"
      ]
     },
     "execution_count": 37,
     "metadata": {},
     "output_type": "execute_result"
    }
   ],
   "source": [
    "channel_spend_grad.head()"
   ]
  },
  {
   "cell_type": "markdown",
   "id": "cd47fbfd",
   "metadata": {},
   "source": [
    "### Attribution Technical -- Last Interaction"
   ]
  },
  {
   "cell_type": "code",
   "execution_count": 5,
   "id": "4b91c3ac",
   "metadata": {
    "scrolled": true
   },
   "outputs": [
    {
     "data": {
      "text/html": [
       "<div>\n",
       "<style scoped>\n",
       "    .dataframe tbody tr th:only-of-type {\n",
       "        vertical-align: middle;\n",
       "    }\n",
       "\n",
       "    .dataframe tbody tr th {\n",
       "        vertical-align: top;\n",
       "    }\n",
       "\n",
       "    .dataframe thead th {\n",
       "        text-align: right;\n",
       "    }\n",
       "</style>\n",
       "<table border=\"1\" class=\"dataframe\">\n",
       "  <thead>\n",
       "    <tr style=\"text-align: right;\">\n",
       "      <th></th>\n",
       "      <th>spend_AED</th>\n",
       "    </tr>\n",
       "    <tr>\n",
       "      <th>channel</th>\n",
       "      <th></th>\n",
       "    </tr>\n",
       "  </thead>\n",
       "  <tbody>\n",
       "    <tr>\n",
       "      <th>bing</th>\n",
       "      <td>10800</td>\n",
       "    </tr>\n",
       "    <tr>\n",
       "      <th>display</th>\n",
       "      <td>366</td>\n",
       "    </tr>\n",
       "    <tr>\n",
       "      <th>facebook</th>\n",
       "      <td>113500</td>\n",
       "    </tr>\n",
       "    <tr>\n",
       "      <th>search</th>\n",
       "      <td>222500</td>\n",
       "    </tr>\n",
       "    <tr>\n",
       "      <th>youtube</th>\n",
       "      <td>8730</td>\n",
       "    </tr>\n",
       "  </tbody>\n",
       "</table>\n",
       "</div>"
      ],
      "text/plain": [
       "          spend_AED\n",
       "channel            \n",
       "bing          10800\n",
       "display         366\n",
       "facebook     113500\n",
       "search       222500\n",
       "youtube        8730"
      ]
     },
     "execution_count": 5,
     "metadata": {},
     "output_type": "execute_result"
    }
   ],
   "source": [
    "ad_spend_sum = pd.DataFrame()\n",
    "ad_spend_sum[\"spend_AED\"] = channel_spend_grad.groupby(by=\"channel\")[\"spend_AED\"].sum()\n",
    "ad_spend_sum"
   ]
  },
  {
   "cell_type": "code",
   "execution_count": 9,
   "id": "da31d8f7",
   "metadata": {},
   "outputs": [],
   "source": [
    "# attribution technical\n",
    "ad_spend_sum['total_sub'] = ''\n",
    "ad_spend_sum['total_sub']['bing'] = len(sub_df[sub_df['attribution_technical'] == 'bing'])\n",
    "ad_spend_sum['total_sub']['display'] = len(sub_df[sub_df['attribution_technical'] == 'display'])\n",
    "ad_spend_sum['total_sub']['facebook'] = len(sub_df[sub_df['attribution_technical'] == 'facebook'])\n",
    "ad_spend_sum['total_sub']['search'] = len(sub_df[sub_df['attribution_technical'] == 'search'])\n",
    "ad_spend_sum['total_sub']['youtube'] = len(sub_df[sub_df['attribution_technical'] == 'youtube'])\n",
    "\n",
    "ad_spend_sum['current_sub'] = ''\n",
    "ad_spend_sum['current_sub']['bing'] = len(sub_df[sub_df['current_sub_TF'] == True][sub_df['attribution_technical'] == 'bing'])\n",
    "ad_spend_sum['current_sub']['display'] = len(sub_df[sub_df['current_sub_TF'] == True][sub_df['attribution_technical'] == 'display'])\n",
    "ad_spend_sum['current_sub']['facebook'] = len(sub_df[sub_df['current_sub_TF'] == True][sub_df['attribution_technical'] == 'facebook'])\n",
    "ad_spend_sum['current_sub']['search'] = len(sub_df[sub_df['current_sub_TF'] == True][sub_df['attribution_technical'] == 'search'])\n",
    "ad_spend_sum['current_sub']['youtube'] = len(sub_df[sub_df['current_sub_TF'] == True][sub_df['attribution_technical'] == 'youtube'])\n",
    "\n",
    "ad_spend_sum['conversion'] = ad_spend_sum['current_sub']/ad_spend_sum['total_sub']"
   ]
  },
  {
   "cell_type": "code",
   "execution_count": 11,
   "id": "753ccf46",
   "metadata": {},
   "outputs": [
    {
     "name": "stdout",
     "output_type": "stream",
     "text": [
      "CAC for five channels\n",
      "bing: 18.82\n",
      "display: 0.46\n",
      "facebook: 2.75\n",
      "search: 13.45\n",
      "youtube: 11.96\n"
     ]
    }
   ],
   "source": [
    "ad_spend_sum['avg_CAC'] = ad_spend_sum['spend_AED']/ad_spend_sum['current_sub']\n",
    "\n",
    "print(\"CAC for five channels\")\n",
    "print('bing: %.2f'%ad_spend_sum['avg_CAC']['bing'])\n",
    "print('display: %.2f'%ad_spend_sum['avg_CAC']['display'])\n",
    "print('facebook: %.2f'%ad_spend_sum['avg_CAC']['facebook'])\n",
    "print('search: %.2f'%ad_spend_sum['avg_CAC']['search'])\n",
    "print('youtube: %.2f'%ad_spend_sum['avg_CAC']['youtube'])"
   ]
  },
  {
   "cell_type": "code",
   "execution_count": 12,
   "id": "c239f63a",
   "metadata": {
    "scrolled": true
   },
   "outputs": [
    {
     "data": {
      "text/html": [
       "<div>\n",
       "<style scoped>\n",
       "    .dataframe tbody tr th:only-of-type {\n",
       "        vertical-align: middle;\n",
       "    }\n",
       "\n",
       "    .dataframe tbody tr th {\n",
       "        vertical-align: top;\n",
       "    }\n",
       "\n",
       "    .dataframe thead th {\n",
       "        text-align: right;\n",
       "    }\n",
       "</style>\n",
       "<table border=\"1\" class=\"dataframe\">\n",
       "  <thead>\n",
       "    <tr style=\"text-align: right;\">\n",
       "      <th></th>\n",
       "      <th>spend_AED</th>\n",
       "      <th>total_sub</th>\n",
       "      <th>current_sub</th>\n",
       "      <th>conversion</th>\n",
       "      <th>avg_CAC</th>\n",
       "    </tr>\n",
       "    <tr>\n",
       "      <th>channel</th>\n",
       "      <th></th>\n",
       "      <th></th>\n",
       "      <th></th>\n",
       "      <th></th>\n",
       "      <th></th>\n",
       "    </tr>\n",
       "  </thead>\n",
       "  <tbody>\n",
       "    <tr>\n",
       "      <th>bing</th>\n",
       "      <td>10800</td>\n",
       "      <td>1146</td>\n",
       "      <td>574</td>\n",
       "      <td>0.500873</td>\n",
       "      <td>18.815331</td>\n",
       "    </tr>\n",
       "    <tr>\n",
       "      <th>display</th>\n",
       "      <td>366</td>\n",
       "      <td>1407</td>\n",
       "      <td>799</td>\n",
       "      <td>0.567875</td>\n",
       "      <td>0.458073</td>\n",
       "    </tr>\n",
       "    <tr>\n",
       "      <th>facebook</th>\n",
       "      <td>113500</td>\n",
       "      <td>80251</td>\n",
       "      <td>41236</td>\n",
       "      <td>0.513838</td>\n",
       "      <td>2.752449</td>\n",
       "    </tr>\n",
       "    <tr>\n",
       "      <th>search</th>\n",
       "      <td>222500</td>\n",
       "      <td>25306</td>\n",
       "      <td>16539</td>\n",
       "      <td>0.65356</td>\n",
       "      <td>13.45305</td>\n",
       "    </tr>\n",
       "    <tr>\n",
       "      <th>youtube</th>\n",
       "      <td>8730</td>\n",
       "      <td>913</td>\n",
       "      <td>730</td>\n",
       "      <td>0.799562</td>\n",
       "      <td>11.958904</td>\n",
       "    </tr>\n",
       "  </tbody>\n",
       "</table>\n",
       "</div>"
      ],
      "text/plain": [
       "          spend_AED total_sub current_sub conversion    avg_CAC\n",
       "channel                                                        \n",
       "bing          10800      1146         574   0.500873  18.815331\n",
       "display         366      1407         799   0.567875   0.458073\n",
       "facebook     113500     80251       41236   0.513838   2.752449\n",
       "search       222500     25306       16539    0.65356   13.45305\n",
       "youtube        8730       913         730   0.799562  11.958904"
      ]
     },
     "execution_count": 12,
     "metadata": {},
     "output_type": "execute_result"
    }
   ],
   "source": [
    "ad_spend_sum"
   ]
  },
  {
   "cell_type": "markdown",
   "id": "0ec66d8f",
   "metadata": {},
   "source": [
    "### Allocation by month"
   ]
  },
  {
   "cell_type": "code",
   "execution_count": 111,
   "id": "17113d1e",
   "metadata": {},
   "outputs": [],
   "source": [
    "sub_df = subscribers_csv.copy()\n",
    "# convert account creation date format\n",
    "sub_df.account_creation_date = pd.to_datetime(sub_df.account_creation_date, format='%Y-%m-%d')\n",
    "sub_df.account_creation_date = sub_df.account_creation_date.apply(lambda x: datetime.date(year=x.year, month=x.month, day=x.day))\n",
    "\n",
    "start_date = datetime.date(year=2019, month=10, day=1)\n",
    "end_date = datetime.date(year=2019, month=10, day=31)\n",
    "sub_df = sub_df.loc[(sub_df['account_creation_date'] >= start_date) & \\\n",
    "                    (sub_df['account_creation_date'] <= end_date),\\\n",
    "                    ('current_sub_TF','attribution_technical')]\n",
    "\n",
    "ad_spend_mon = pd.DataFrame()\n",
    "ad_spend_mon = channel_spend_grad.loc[(channel_spend_grad['date']==201910),]\n",
    "\n",
    "# attribution technical\n",
    "ad_spend_mon['total_sub'] = int()\n",
    "ad_spend_mon.iat[0,3] = len(sub_df[sub_df['attribution_technical'] == 'bing'])\n",
    "ad_spend_mon.iat[1,3] = len(sub_df[sub_df['attribution_technical'] == 'display'])\n",
    "ad_spend_mon.iat[2,3] = len(sub_df[sub_df['attribution_technical'] == 'facebook'])\n",
    "ad_spend_mon.iat[3,3] = len(sub_df[sub_df['attribution_technical'] == 'search'])\n",
    "ad_spend_mon.iat[4,3] = len(sub_df[sub_df['attribution_technical'] == 'youtube'])\n",
    "\n",
    "ad_spend_mon['current_sub'] = int()\n",
    "ad_spend_mon.iat[0,4] = len(sub_df[sub_df['current_sub_TF'] == True][sub_df['attribution_technical'] == 'bing'])\n",
    "ad_spend_mon.iat[1,4] = len(sub_df[sub_df['current_sub_TF'] == True][sub_df['attribution_technical'] == 'display'])\n",
    "ad_spend_mon.iat[2,4] = len(sub_df[sub_df['current_sub_TF'] == True][sub_df['attribution_technical'] == 'facebook'])\n",
    "ad_spend_mon.iat[3,4] = len(sub_df[sub_df['current_sub_TF'] == True][sub_df['attribution_technical'] == 'search'])\n",
    "ad_spend_mon.iat[4,4] = len(sub_df[sub_df['current_sub_TF'] == True][sub_df['attribution_technical'] == 'youtube'])\n",
    "\n",
    "ad_spend_mon['conversion'] = ad_spend_mon['current_sub']/ad_spend_mon['total_sub']\n",
    "ad_spend_mon['marginal_CAC'] = ad_spend_mon['spend_AED']/ad_spend_mon['current_sub']\n",
    "\n",
    "#ad_spend_mon"
   ]
  },
  {
   "cell_type": "code",
   "execution_count": 104,
   "id": "df98f494",
   "metadata": {
    "scrolled": true
   },
   "outputs": [
    {
     "data": {
      "text/html": [
       "<div>\n",
       "<style scoped>\n",
       "    .dataframe tbody tr th:only-of-type {\n",
       "        vertical-align: middle;\n",
       "    }\n",
       "\n",
       "    .dataframe tbody tr th {\n",
       "        vertical-align: top;\n",
       "    }\n",
       "\n",
       "    .dataframe thead th {\n",
       "        text-align: right;\n",
       "    }\n",
       "</style>\n",
       "<table border=\"1\" class=\"dataframe\">\n",
       "  <thead>\n",
       "    <tr style=\"text-align: right;\">\n",
       "      <th></th>\n",
       "      <th>channel</th>\n",
       "      <th>date</th>\n",
       "      <th>spend_AED</th>\n",
       "      <th>total_sub</th>\n",
       "      <th>current_sub</th>\n",
       "      <th>conversion</th>\n",
       "      <th>marginal_CAC</th>\n",
       "    </tr>\n",
       "  </thead>\n",
       "  <tbody>\n",
       "    <tr>\n",
       "      <th>35</th>\n",
       "      <td>bing</td>\n",
       "      <td>202002</td>\n",
       "      <td>3700</td>\n",
       "      <td>303</td>\n",
       "      <td>181</td>\n",
       "      <td>0.597360</td>\n",
       "      <td>20.441989</td>\n",
       "    </tr>\n",
       "    <tr>\n",
       "      <th>36</th>\n",
       "      <td>display</td>\n",
       "      <td>202002</td>\n",
       "      <td>94</td>\n",
       "      <td>341</td>\n",
       "      <td>189</td>\n",
       "      <td>0.554252</td>\n",
       "      <td>0.497354</td>\n",
       "    </tr>\n",
       "    <tr>\n",
       "      <th>37</th>\n",
       "      <td>facebook</td>\n",
       "      <td>202002</td>\n",
       "      <td>14000</td>\n",
       "      <td>7988</td>\n",
       "      <td>4902</td>\n",
       "      <td>0.613671</td>\n",
       "      <td>2.855977</td>\n",
       "    </tr>\n",
       "    <tr>\n",
       "      <th>38</th>\n",
       "      <td>search</td>\n",
       "      <td>202002</td>\n",
       "      <td>44000</td>\n",
       "      <td>4300</td>\n",
       "      <td>2959</td>\n",
       "      <td>0.688140</td>\n",
       "      <td>14.869888</td>\n",
       "    </tr>\n",
       "    <tr>\n",
       "      <th>39</th>\n",
       "      <td>youtube</td>\n",
       "      <td>202002</td>\n",
       "      <td>2420</td>\n",
       "      <td>205</td>\n",
       "      <td>159</td>\n",
       "      <td>0.775610</td>\n",
       "      <td>15.220126</td>\n",
       "    </tr>\n",
       "  </tbody>\n",
       "</table>\n",
       "</div>"
      ],
      "text/plain": [
       "     channel    date  spend_AED  total_sub  current_sub  conversion  \\\n",
       "35      bing  202002       3700        303          181    0.597360   \n",
       "36   display  202002         94        341          189    0.554252   \n",
       "37  facebook  202002      14000       7988         4902    0.613671   \n",
       "38    search  202002      44000       4300         2959    0.688140   \n",
       "39   youtube  202002       2420        205          159    0.775610   \n",
       "\n",
       "    marginal_CAC  \n",
       "35     20.441989  \n",
       "36      0.497354  \n",
       "37      2.855977  \n",
       "38     14.869888  \n",
       "39     15.220126  "
      ]
     },
     "execution_count": 104,
     "metadata": {},
     "output_type": "execute_result"
    }
   ],
   "source": [
    "# 202002\n",
    "ad_spend_mon"
   ]
  },
  {
   "cell_type": "code",
   "execution_count": 106,
   "id": "3d9791d7",
   "metadata": {
    "scrolled": true
   },
   "outputs": [
    {
     "data": {
      "text/html": [
       "<div>\n",
       "<style scoped>\n",
       "    .dataframe tbody tr th:only-of-type {\n",
       "        vertical-align: middle;\n",
       "    }\n",
       "\n",
       "    .dataframe tbody tr th {\n",
       "        vertical-align: top;\n",
       "    }\n",
       "\n",
       "    .dataframe thead th {\n",
       "        text-align: right;\n",
       "    }\n",
       "</style>\n",
       "<table border=\"1\" class=\"dataframe\">\n",
       "  <thead>\n",
       "    <tr style=\"text-align: right;\">\n",
       "      <th></th>\n",
       "      <th>channel</th>\n",
       "      <th>date</th>\n",
       "      <th>spend_AED</th>\n",
       "      <th>total_sub</th>\n",
       "      <th>current_sub</th>\n",
       "      <th>conversion</th>\n",
       "      <th>marginal_CAC</th>\n",
       "    </tr>\n",
       "  </thead>\n",
       "  <tbody>\n",
       "    <tr>\n",
       "      <th>30</th>\n",
       "      <td>bing</td>\n",
       "      <td>202001</td>\n",
       "      <td>2100</td>\n",
       "      <td>172</td>\n",
       "      <td>93</td>\n",
       "      <td>0.540698</td>\n",
       "      <td>22.580645</td>\n",
       "    </tr>\n",
       "    <tr>\n",
       "      <th>31</th>\n",
       "      <td>display</td>\n",
       "      <td>202001</td>\n",
       "      <td>148</td>\n",
       "      <td>536</td>\n",
       "      <td>326</td>\n",
       "      <td>0.608209</td>\n",
       "      <td>0.453988</td>\n",
       "    </tr>\n",
       "    <tr>\n",
       "      <th>32</th>\n",
       "      <td>facebook</td>\n",
       "      <td>202001</td>\n",
       "      <td>11000</td>\n",
       "      <td>6289</td>\n",
       "      <td>4103</td>\n",
       "      <td>0.652409</td>\n",
       "      <td>2.680965</td>\n",
       "    </tr>\n",
       "    <tr>\n",
       "      <th>33</th>\n",
       "      <td>search</td>\n",
       "      <td>202001</td>\n",
       "      <td>41000</td>\n",
       "      <td>4073</td>\n",
       "      <td>2862</td>\n",
       "      <td>0.702676</td>\n",
       "      <td>14.325646</td>\n",
       "    </tr>\n",
       "    <tr>\n",
       "      <th>34</th>\n",
       "      <td>youtube</td>\n",
       "      <td>202001</td>\n",
       "      <td>4360</td>\n",
       "      <td>370</td>\n",
       "      <td>312</td>\n",
       "      <td>0.843243</td>\n",
       "      <td>13.974359</td>\n",
       "    </tr>\n",
       "  </tbody>\n",
       "</table>\n",
       "</div>"
      ],
      "text/plain": [
       "     channel    date  spend_AED  total_sub  current_sub  conversion  \\\n",
       "30      bing  202001       2100        172           93    0.540698   \n",
       "31   display  202001        148        536          326    0.608209   \n",
       "32  facebook  202001      11000       6289         4103    0.652409   \n",
       "33    search  202001      41000       4073         2862    0.702676   \n",
       "34   youtube  202001       4360        370          312    0.843243   \n",
       "\n",
       "    marginal_CAC  \n",
       "30     22.580645  \n",
       "31      0.453988  \n",
       "32      2.680965  \n",
       "33     14.325646  \n",
       "34     13.974359  "
      ]
     },
     "execution_count": 106,
     "metadata": {},
     "output_type": "execute_result"
    }
   ],
   "source": [
    "# 202001\n",
    "ad_spend_mon"
   ]
  },
  {
   "cell_type": "code",
   "execution_count": 108,
   "id": "588a8b8a",
   "metadata": {
    "scrolled": true
   },
   "outputs": [
    {
     "data": {
      "text/html": [
       "<div>\n",
       "<style scoped>\n",
       "    .dataframe tbody tr th:only-of-type {\n",
       "        vertical-align: middle;\n",
       "    }\n",
       "\n",
       "    .dataframe tbody tr th {\n",
       "        vertical-align: top;\n",
       "    }\n",
       "\n",
       "    .dataframe thead th {\n",
       "        text-align: right;\n",
       "    }\n",
       "</style>\n",
       "<table border=\"1\" class=\"dataframe\">\n",
       "  <thead>\n",
       "    <tr style=\"text-align: right;\">\n",
       "      <th></th>\n",
       "      <th>channel</th>\n",
       "      <th>date</th>\n",
       "      <th>spend_AED</th>\n",
       "      <th>total_sub</th>\n",
       "      <th>current_sub</th>\n",
       "      <th>conversion</th>\n",
       "      <th>marginal_CAC</th>\n",
       "    </tr>\n",
       "  </thead>\n",
       "  <tbody>\n",
       "    <tr>\n",
       "      <th>25</th>\n",
       "      <td>bing</td>\n",
       "      <td>201912</td>\n",
       "      <td>300</td>\n",
       "      <td>28</td>\n",
       "      <td>13</td>\n",
       "      <td>0.464286</td>\n",
       "      <td>23.076923</td>\n",
       "    </tr>\n",
       "    <tr>\n",
       "      <th>26</th>\n",
       "      <td>display</td>\n",
       "      <td>201912</td>\n",
       "      <td>31</td>\n",
       "      <td>112</td>\n",
       "      <td>65</td>\n",
       "      <td>0.580357</td>\n",
       "      <td>0.476923</td>\n",
       "    </tr>\n",
       "    <tr>\n",
       "      <th>27</th>\n",
       "      <td>facebook</td>\n",
       "      <td>201912</td>\n",
       "      <td>16000</td>\n",
       "      <td>9288</td>\n",
       "      <td>6035</td>\n",
       "      <td>0.649763</td>\n",
       "      <td>2.651201</td>\n",
       "    </tr>\n",
       "    <tr>\n",
       "      <th>28</th>\n",
       "      <td>search</td>\n",
       "      <td>201912</td>\n",
       "      <td>38000</td>\n",
       "      <td>3770</td>\n",
       "      <td>2701</td>\n",
       "      <td>0.716446</td>\n",
       "      <td>14.068863</td>\n",
       "    </tr>\n",
       "    <tr>\n",
       "      <th>29</th>\n",
       "      <td>youtube</td>\n",
       "      <td>201912</td>\n",
       "      <td>900</td>\n",
       "      <td>76</td>\n",
       "      <td>56</td>\n",
       "      <td>0.736842</td>\n",
       "      <td>16.071429</td>\n",
       "    </tr>\n",
       "  </tbody>\n",
       "</table>\n",
       "</div>"
      ],
      "text/plain": [
       "     channel    date  spend_AED  total_sub  current_sub  conversion  \\\n",
       "25      bing  201912        300         28           13    0.464286   \n",
       "26   display  201912         31        112           65    0.580357   \n",
       "27  facebook  201912      16000       9288         6035    0.649763   \n",
       "28    search  201912      38000       3770         2701    0.716446   \n",
       "29   youtube  201912        900         76           56    0.736842   \n",
       "\n",
       "    marginal_CAC  \n",
       "25     23.076923  \n",
       "26      0.476923  \n",
       "27      2.651201  \n",
       "28     14.068863  \n",
       "29     16.071429  "
      ]
     },
     "execution_count": 108,
     "metadata": {},
     "output_type": "execute_result"
    }
   ],
   "source": [
    "# 201912\n",
    "ad_spend_mon"
   ]
  },
  {
   "cell_type": "code",
   "execution_count": 110,
   "id": "a0af81b3",
   "metadata": {
    "scrolled": true
   },
   "outputs": [
    {
     "data": {
      "text/html": [
       "<div>\n",
       "<style scoped>\n",
       "    .dataframe tbody tr th:only-of-type {\n",
       "        vertical-align: middle;\n",
       "    }\n",
       "\n",
       "    .dataframe tbody tr th {\n",
       "        vertical-align: top;\n",
       "    }\n",
       "\n",
       "    .dataframe thead th {\n",
       "        text-align: right;\n",
       "    }\n",
       "</style>\n",
       "<table border=\"1\" class=\"dataframe\">\n",
       "  <thead>\n",
       "    <tr style=\"text-align: right;\">\n",
       "      <th></th>\n",
       "      <th>channel</th>\n",
       "      <th>date</th>\n",
       "      <th>spend_AED</th>\n",
       "      <th>total_sub</th>\n",
       "      <th>current_sub</th>\n",
       "      <th>conversion</th>\n",
       "      <th>marginal_CAC</th>\n",
       "    </tr>\n",
       "  </thead>\n",
       "  <tbody>\n",
       "    <tr>\n",
       "      <th>20</th>\n",
       "      <td>bing</td>\n",
       "      <td>201911</td>\n",
       "      <td>1300</td>\n",
       "      <td>103</td>\n",
       "      <td>55</td>\n",
       "      <td>0.533981</td>\n",
       "      <td>23.636364</td>\n",
       "    </tr>\n",
       "    <tr>\n",
       "      <th>21</th>\n",
       "      <td>display</td>\n",
       "      <td>201911</td>\n",
       "      <td>29</td>\n",
       "      <td>90</td>\n",
       "      <td>64</td>\n",
       "      <td>0.711111</td>\n",
       "      <td>0.453125</td>\n",
       "    </tr>\n",
       "    <tr>\n",
       "      <th>22</th>\n",
       "      <td>facebook</td>\n",
       "      <td>201911</td>\n",
       "      <td>23000</td>\n",
       "      <td>12995</td>\n",
       "      <td>8177</td>\n",
       "      <td>0.629242</td>\n",
       "      <td>2.812768</td>\n",
       "    </tr>\n",
       "    <tr>\n",
       "      <th>23</th>\n",
       "      <td>search</td>\n",
       "      <td>201911</td>\n",
       "      <td>25000</td>\n",
       "      <td>2510</td>\n",
       "      <td>1800</td>\n",
       "      <td>0.717131</td>\n",
       "      <td>13.888889</td>\n",
       "    </tr>\n",
       "    <tr>\n",
       "      <th>24</th>\n",
       "      <td>youtube</td>\n",
       "      <td>201911</td>\n",
       "      <td>550</td>\n",
       "      <td>47</td>\n",
       "      <td>35</td>\n",
       "      <td>0.744681</td>\n",
       "      <td>15.714286</td>\n",
       "    </tr>\n",
       "  </tbody>\n",
       "</table>\n",
       "</div>"
      ],
      "text/plain": [
       "     channel    date  spend_AED  total_sub  current_sub  conversion  \\\n",
       "20      bing  201911       1300        103           55    0.533981   \n",
       "21   display  201911         29         90           64    0.711111   \n",
       "22  facebook  201911      23000      12995         8177    0.629242   \n",
       "23    search  201911      25000       2510         1800    0.717131   \n",
       "24   youtube  201911        550         47           35    0.744681   \n",
       "\n",
       "    marginal_CAC  \n",
       "20     23.636364  \n",
       "21      0.453125  \n",
       "22      2.812768  \n",
       "23     13.888889  \n",
       "24     15.714286  "
      ]
     },
     "execution_count": 110,
     "metadata": {},
     "output_type": "execute_result"
    }
   ],
   "source": [
    "# 201911\n",
    "ad_spend_mon"
   ]
  },
  {
   "cell_type": "code",
   "execution_count": 112,
   "id": "e607a284",
   "metadata": {
    "scrolled": true
   },
   "outputs": [
    {
     "data": {
      "text/html": [
       "<div>\n",
       "<style scoped>\n",
       "    .dataframe tbody tr th:only-of-type {\n",
       "        vertical-align: middle;\n",
       "    }\n",
       "\n",
       "    .dataframe tbody tr th {\n",
       "        vertical-align: top;\n",
       "    }\n",
       "\n",
       "    .dataframe thead th {\n",
       "        text-align: right;\n",
       "    }\n",
       "</style>\n",
       "<table border=\"1\" class=\"dataframe\">\n",
       "  <thead>\n",
       "    <tr style=\"text-align: right;\">\n",
       "      <th></th>\n",
       "      <th>channel</th>\n",
       "      <th>date</th>\n",
       "      <th>spend_AED</th>\n",
       "      <th>total_sub</th>\n",
       "      <th>current_sub</th>\n",
       "      <th>conversion</th>\n",
       "      <th>marginal_CAC</th>\n",
       "    </tr>\n",
       "  </thead>\n",
       "  <tbody>\n",
       "    <tr>\n",
       "      <th>15</th>\n",
       "      <td>bing</td>\n",
       "      <td>201910</td>\n",
       "      <td>1100</td>\n",
       "      <td>86</td>\n",
       "      <td>44</td>\n",
       "      <td>0.511628</td>\n",
       "      <td>25.000000</td>\n",
       "    </tr>\n",
       "    <tr>\n",
       "      <th>16</th>\n",
       "      <td>display</td>\n",
       "      <td>201910</td>\n",
       "      <td>19</td>\n",
       "      <td>50</td>\n",
       "      <td>19</td>\n",
       "      <td>0.380000</td>\n",
       "      <td>1.000000</td>\n",
       "    </tr>\n",
       "    <tr>\n",
       "      <th>17</th>\n",
       "      <td>facebook</td>\n",
       "      <td>201910</td>\n",
       "      <td>17000</td>\n",
       "      <td>9489</td>\n",
       "      <td>5356</td>\n",
       "      <td>0.564443</td>\n",
       "      <td>3.174010</td>\n",
       "    </tr>\n",
       "    <tr>\n",
       "      <th>18</th>\n",
       "      <td>search</td>\n",
       "      <td>201910</td>\n",
       "      <td>24000</td>\n",
       "      <td>2333</td>\n",
       "      <td>1463</td>\n",
       "      <td>0.627090</td>\n",
       "      <td>16.404648</td>\n",
       "    </tr>\n",
       "    <tr>\n",
       "      <th>19</th>\n",
       "      <td>youtube</td>\n",
       "      <td>201910</td>\n",
       "      <td>130</td>\n",
       "      <td>11</td>\n",
       "      <td>6</td>\n",
       "      <td>0.545455</td>\n",
       "      <td>21.666667</td>\n",
       "    </tr>\n",
       "  </tbody>\n",
       "</table>\n",
       "</div>"
      ],
      "text/plain": [
       "     channel    date  spend_AED  total_sub  current_sub  conversion  \\\n",
       "15      bing  201910       1100         86           44    0.511628   \n",
       "16   display  201910         19         50           19    0.380000   \n",
       "17  facebook  201910      17000       9489         5356    0.564443   \n",
       "18    search  201910      24000       2333         1463    0.627090   \n",
       "19   youtube  201910        130         11            6    0.545455   \n",
       "\n",
       "    marginal_CAC  \n",
       "15     25.000000  \n",
       "16      1.000000  \n",
       "17      3.174010  \n",
       "18     16.404648  \n",
       "19     21.666667  "
      ]
     },
     "execution_count": 112,
     "metadata": {},
     "output_type": "execute_result"
    }
   ],
   "source": [
    "# 201910\n",
    "ad_spend_mon"
   ]
  },
  {
   "cell_type": "code",
   "execution_count": 88,
   "id": "740b5fd2",
   "metadata": {
    "scrolled": true
   },
   "outputs": [
    {
     "data": {
      "text/html": [
       "<div>\n",
       "<style scoped>\n",
       "    .dataframe tbody tr th:only-of-type {\n",
       "        vertical-align: middle;\n",
       "    }\n",
       "\n",
       "    .dataframe tbody tr th {\n",
       "        vertical-align: top;\n",
       "    }\n",
       "\n",
       "    .dataframe thead th {\n",
       "        text-align: right;\n",
       "    }\n",
       "</style>\n",
       "<table border=\"1\" class=\"dataframe\">\n",
       "  <thead>\n",
       "    <tr style=\"text-align: right;\">\n",
       "      <th></th>\n",
       "      <th>channel</th>\n",
       "      <th>date</th>\n",
       "      <th>spend_AED</th>\n",
       "      <th>total_sub</th>\n",
       "      <th>current_sub</th>\n",
       "      <th>conversion</th>\n",
       "    </tr>\n",
       "  </thead>\n",
       "  <tbody>\n",
       "    <tr>\n",
       "      <th>10</th>\n",
       "      <td>bing</td>\n",
       "      <td>201909</td>\n",
       "      <td>1000</td>\n",
       "      <td>84</td>\n",
       "      <td>37</td>\n",
       "      <td>0.440476</td>\n",
       "    </tr>\n",
       "    <tr>\n",
       "      <th>11</th>\n",
       "      <td>display</td>\n",
       "      <td>201909</td>\n",
       "      <td>13</td>\n",
       "      <td>12</td>\n",
       "      <td>6</td>\n",
       "      <td>0.500000</td>\n",
       "    </tr>\n",
       "    <tr>\n",
       "      <th>12</th>\n",
       "      <td>facebook</td>\n",
       "      <td>201909</td>\n",
       "      <td>10500</td>\n",
       "      <td>6129</td>\n",
       "      <td>3097</td>\n",
       "      <td>0.505303</td>\n",
       "    </tr>\n",
       "    <tr>\n",
       "      <th>13</th>\n",
       "      <td>search</td>\n",
       "      <td>201909</td>\n",
       "      <td>19000</td>\n",
       "      <td>1852</td>\n",
       "      <td>1118</td>\n",
       "      <td>0.603672</td>\n",
       "    </tr>\n",
       "    <tr>\n",
       "      <th>14</th>\n",
       "      <td>youtube</td>\n",
       "      <td>201909</td>\n",
       "      <td>100</td>\n",
       "      <td>2</td>\n",
       "      <td>1</td>\n",
       "      <td>0.500000</td>\n",
       "    </tr>\n",
       "  </tbody>\n",
       "</table>\n",
       "</div>"
      ],
      "text/plain": [
       "     channel    date  spend_AED  total_sub  current_sub  conversion\n",
       "10      bing  201909       1000         84           37    0.440476\n",
       "11   display  201909         13         12            6    0.500000\n",
       "12  facebook  201909      10500       6129         3097    0.505303\n",
       "13    search  201909      19000       1852         1118    0.603672\n",
       "14   youtube  201909        100          2            1    0.500000"
      ]
     },
     "execution_count": 88,
     "metadata": {},
     "output_type": "execute_result"
    }
   ],
   "source": [
    "# 201909\n",
    "ad_spend_mon"
   ]
  },
  {
   "cell_type": "code",
   "execution_count": 85,
   "id": "ea5337db",
   "metadata": {},
   "outputs": [
    {
     "data": {
      "text/html": [
       "<div>\n",
       "<style scoped>\n",
       "    .dataframe tbody tr th:only-of-type {\n",
       "        vertical-align: middle;\n",
       "    }\n",
       "\n",
       "    .dataframe tbody tr th {\n",
       "        vertical-align: top;\n",
       "    }\n",
       "\n",
       "    .dataframe thead th {\n",
       "        text-align: right;\n",
       "    }\n",
       "</style>\n",
       "<table border=\"1\" class=\"dataframe\">\n",
       "  <thead>\n",
       "    <tr style=\"text-align: right;\">\n",
       "      <th></th>\n",
       "      <th>channel</th>\n",
       "      <th>date</th>\n",
       "      <th>spend_AED</th>\n",
       "      <th>total_sub</th>\n",
       "      <th>current_sub</th>\n",
       "      <th>conversion</th>\n",
       "    </tr>\n",
       "  </thead>\n",
       "  <tbody>\n",
       "    <tr>\n",
       "      <th>5</th>\n",
       "      <td>bing</td>\n",
       "      <td>201908</td>\n",
       "      <td>900</td>\n",
       "      <td>71</td>\n",
       "      <td>22</td>\n",
       "      <td>0.309859</td>\n",
       "    </tr>\n",
       "    <tr>\n",
       "      <th>6</th>\n",
       "      <td>display</td>\n",
       "      <td>201908</td>\n",
       "      <td>20</td>\n",
       "      <td>74</td>\n",
       "      <td>25</td>\n",
       "      <td>0.337838</td>\n",
       "    </tr>\n",
       "    <tr>\n",
       "      <th>7</th>\n",
       "      <td>facebook</td>\n",
       "      <td>201908</td>\n",
       "      <td>13000</td>\n",
       "      <td>9855</td>\n",
       "      <td>3767</td>\n",
       "      <td>0.382243</td>\n",
       "    </tr>\n",
       "    <tr>\n",
       "      <th>8</th>\n",
       "      <td>search</td>\n",
       "      <td>201908</td>\n",
       "      <td>18500</td>\n",
       "      <td>1939</td>\n",
       "      <td>976</td>\n",
       "      <td>0.503352</td>\n",
       "    </tr>\n",
       "    <tr>\n",
       "      <th>9</th>\n",
       "      <td>youtube</td>\n",
       "      <td>201908</td>\n",
       "      <td>180</td>\n",
       "      <td>15</td>\n",
       "      <td>9</td>\n",
       "      <td>0.600000</td>\n",
       "    </tr>\n",
       "  </tbody>\n",
       "</table>\n",
       "</div>"
      ],
      "text/plain": [
       "    channel    date  spend_AED  total_sub  current_sub  conversion\n",
       "5      bing  201908        900         71           22    0.309859\n",
       "6   display  201908         20         74           25    0.337838\n",
       "7  facebook  201908      13000       9855         3767    0.382243\n",
       "8    search  201908      18500       1939          976    0.503352\n",
       "9   youtube  201908        180         15            9    0.600000"
      ]
     },
     "execution_count": 85,
     "metadata": {},
     "output_type": "execute_result"
    }
   ],
   "source": [
    "# 201908\n",
    "ad_spend_mon"
   ]
  },
  {
   "cell_type": "code",
   "execution_count": 83,
   "id": "2b2a67ff",
   "metadata": {},
   "outputs": [
    {
     "data": {
      "text/html": [
       "<div>\n",
       "<style scoped>\n",
       "    .dataframe tbody tr th:only-of-type {\n",
       "        vertical-align: middle;\n",
       "    }\n",
       "\n",
       "    .dataframe tbody tr th {\n",
       "        vertical-align: top;\n",
       "    }\n",
       "\n",
       "    .dataframe thead th {\n",
       "        text-align: right;\n",
       "    }\n",
       "</style>\n",
       "<table border=\"1\" class=\"dataframe\">\n",
       "  <thead>\n",
       "    <tr style=\"text-align: right;\">\n",
       "      <th></th>\n",
       "      <th>channel</th>\n",
       "      <th>date</th>\n",
       "      <th>spend_AED</th>\n",
       "      <th>total_sub</th>\n",
       "      <th>current_sub</th>\n",
       "      <th>conversion</th>\n",
       "    </tr>\n",
       "  </thead>\n",
       "  <tbody>\n",
       "    <tr>\n",
       "      <th>0</th>\n",
       "      <td>bing</td>\n",
       "      <td>201907</td>\n",
       "      <td>400</td>\n",
       "      <td>120</td>\n",
       "      <td>13</td>\n",
       "      <td>0.108333</td>\n",
       "    </tr>\n",
       "    <tr>\n",
       "      <th>1</th>\n",
       "      <td>display</td>\n",
       "      <td>201907</td>\n",
       "      <td>12</td>\n",
       "      <td>44</td>\n",
       "      <td>4</td>\n",
       "      <td>0.090909</td>\n",
       "    </tr>\n",
       "    <tr>\n",
       "      <th>2</th>\n",
       "      <td>facebook</td>\n",
       "      <td>201907</td>\n",
       "      <td>9000</td>\n",
       "      <td>10011</td>\n",
       "      <td>927</td>\n",
       "      <td>0.092598</td>\n",
       "    </tr>\n",
       "    <tr>\n",
       "      <th>3</th>\n",
       "      <td>search</td>\n",
       "      <td>201907</td>\n",
       "      <td>13000</td>\n",
       "      <td>1328</td>\n",
       "      <td>256</td>\n",
       "      <td>0.192771</td>\n",
       "    </tr>\n",
       "    <tr>\n",
       "      <th>4</th>\n",
       "      <td>youtube</td>\n",
       "      <td>201907</td>\n",
       "      <td>90</td>\n",
       "      <td>8</td>\n",
       "      <td>0</td>\n",
       "      <td>0.000000</td>\n",
       "    </tr>\n",
       "  </tbody>\n",
       "</table>\n",
       "</div>"
      ],
      "text/plain": [
       "    channel    date  spend_AED  total_sub  current_sub  conversion\n",
       "0      bing  201907        400        120           13    0.108333\n",
       "1   display  201907         12         44            4    0.090909\n",
       "2  facebook  201907       9000      10011          927    0.092598\n",
       "3    search  201907      13000       1328          256    0.192771\n",
       "4   youtube  201907         90          8            0    0.000000"
      ]
     },
     "execution_count": 83,
     "metadata": {},
     "output_type": "execute_result"
    }
   ],
   "source": [
    "# 201907\n",
    "ad_spend_mon"
   ]
  },
  {
   "cell_type": "markdown",
   "id": "4ca0c7d6",
   "metadata": {},
   "source": [
    "## Churn Model\n",
    "predict churn characters and price offer recommendations"
   ]
  },
  {
   "cell_type": "code",
   "execution_count": 126,
   "id": "64055e8d",
   "metadata": {},
   "outputs": [],
   "source": [
    "import pandas as pd\n",
    "import statsmodels.api as sm\n",
    "from sklearn.metrics import confusion_matrix\n",
    "from sklearn import model_selection\n",
    "from matplotlib import pyplot as plt\n",
    "import numpy as np\n",
    "import copy\n",
    "import math\n",
    "from sklearn.preprocessing import MinMaxScaler\n",
    "from sklearn.preprocessing import OneHotEncoder\n",
    "from sklearn.linear_model import LogisticRegression\n",
    "from sklearn.metrics import accuracy_score\n",
    "from sklearn.metrics import roc_auc_score\n",
    "from sklearn.metrics import roc_curve\n",
    "from catboost import CatBoostClassifier, Pool, cv\n",
    "from sklearn.metrics import accuracy_score\n",
    "\n",
    "pd.options.display.max_columns = 25"
   ]
  },
  {
   "cell_type": "markdown",
   "id": "651ed415",
   "metadata": {},
   "source": [
    "### Data Processing"
   ]
  },
  {
   "cell_type": "code",
   "execution_count": 115,
   "id": "46dd372e",
   "metadata": {},
   "outputs": [],
   "source": [
    "df = subscribers_csv.copy()\n",
    "#df.isnull().sum()"
   ]
  },
  {
   "cell_type": "code",
   "execution_count": 116,
   "id": "fea727ca",
   "metadata": {},
   "outputs": [],
   "source": [
    "#df['months_per_bill_period'].value_counts()\n",
    "# 4\n",
    "\n",
    "#df['payment_period'].value_counts() \n",
    "# 0,1,2,3\n",
    "\n",
    "#df['join_fee'].value_counts()\n",
    "# have neg val\n",
    "\n",
    "#df['num_ideal_streaming_services'].value_counts()\n",
    "# -1 to 7, normally 2,3\n",
    "\n",
    "#df[(df['age']>65)&(df['age']<75)]['age'].value_counts()\n",
    "# a lot of unreal age numbers"
   ]
  },
  {
   "cell_type": "code",
   "execution_count": 117,
   "id": "8d854274",
   "metadata": {},
   "outputs": [],
   "source": [
    "df.drop(['Unnamed: 0','months_per_bill_period','account_creation_date','trial_end_date','payment_period',\\\n",
    "         'initial_credit_card_declined','last_payment','next_payment','cancel_date'],\\\n",
    "       axis = 1,inplace=True)"
   ]
  },
  {
   "cell_type": "code",
   "execution_count": 118,
   "id": "8f5377cd",
   "metadata": {},
   "outputs": [],
   "source": [
    "eng_df = engagement.copy()\n",
    "eng_df.drop(['payment_period','date'],axis = 1,inplace=True)\n",
    "eng_df = eng_df.groupby(by=\"subid\").sum()\n",
    "df = pd.merge(df, eng_df, left_on='subid', right_on='subid', how='left')"
   ]
  },
  {
   "cell_type": "code",
   "execution_count": 119,
   "id": "1a2fffdc",
   "metadata": {},
   "outputs": [],
   "source": [
    "#customer_service_reps.head(10)"
   ]
  },
  {
   "cell_type": "code",
   "execution_count": 120,
   "id": "d5e7065f",
   "metadata": {},
   "outputs": [],
   "source": [
    "#cust_rep = customer_service_reps.copy()\n",
    "#cust_df = pd.DataFrame()\n",
    "#cust_df[\"customer_service_count\"] = cust_rep.groupby(by=\"subid\").count()\n",
    "#df = pd.merge(df, cust_rep, left_on='subid', right_on='subid', how='left')"
   ]
  },
  {
   "cell_type": "code",
   "execution_count": 121,
   "id": "d90bcd31",
   "metadata": {},
   "outputs": [
    {
     "data": {
      "text/html": [
       "<div>\n",
       "<style scoped>\n",
       "    .dataframe tbody tr th:only-of-type {\n",
       "        vertical-align: middle;\n",
       "    }\n",
       "\n",
       "    .dataframe tbody tr th {\n",
       "        vertical-align: top;\n",
       "    }\n",
       "\n",
       "    .dataframe thead th {\n",
       "        text-align: right;\n",
       "    }\n",
       "</style>\n",
       "<table border=\"1\" class=\"dataframe\">\n",
       "  <thead>\n",
       "    <tr style=\"text-align: right;\">\n",
       "      <th></th>\n",
       "      <th>subid</th>\n",
       "      <th>package_type</th>\n",
       "      <th>num_weekly_services_utilized</th>\n",
       "      <th>preferred_genre</th>\n",
       "      <th>intended_use</th>\n",
       "      <th>weekly_consumption_hour</th>\n",
       "      <th>num_ideal_streaming_services</th>\n",
       "      <th>age</th>\n",
       "      <th>male_TF</th>\n",
       "      <th>country</th>\n",
       "      <th>...</th>\n",
       "      <th>payment_type</th>\n",
       "      <th>num_trial_days</th>\n",
       "      <th>current_sub_TF</th>\n",
       "      <th>trial_completed</th>\n",
       "      <th>app_opens</th>\n",
       "      <th>cust_service_mssgs</th>\n",
       "      <th>num_videos_completed</th>\n",
       "      <th>num_videos_more_than_30_seconds</th>\n",
       "      <th>num_videos_rated</th>\n",
       "      <th>num_series_started</th>\n",
       "    </tr>\n",
       "  </thead>\n",
       "  <tbody>\n",
       "    <tr>\n",
       "      <th>0</th>\n",
       "      <td>21724479</td>\n",
       "      <td>economy</td>\n",
       "      <td>NaN</td>\n",
       "      <td>comedy</td>\n",
       "      <td>access to exclusive content</td>\n",
       "      <td>NaN</td>\n",
       "      <td>NaN</td>\n",
       "      <td>NaN</td>\n",
       "      <td>False</td>\n",
       "      <td>UAE</td>\n",
       "      <td>...</td>\n",
       "      <td>Standard Charter</td>\n",
       "      <td>14</td>\n",
       "      <td>True</td>\n",
       "      <td>True</td>\n",
       "      <td>NaN</td>\n",
       "      <td>NaN</td>\n",
       "      <td>NaN</td>\n",
       "      <td>NaN</td>\n",
       "      <td>NaN</td>\n",
       "      <td>NaN</td>\n",
       "    </tr>\n",
       "    <tr>\n",
       "      <th>1</th>\n",
       "      <td>23383224</td>\n",
       "      <td>base</td>\n",
       "      <td>NaN</td>\n",
       "      <td>comedy</td>\n",
       "      <td>access to exclusive content</td>\n",
       "      <td>22.951579</td>\n",
       "      <td>NaN</td>\n",
       "      <td>70.0</td>\n",
       "      <td>False</td>\n",
       "      <td>UAE</td>\n",
       "      <td>...</td>\n",
       "      <td>NaN</td>\n",
       "      <td>14</td>\n",
       "      <td>True</td>\n",
       "      <td>True</td>\n",
       "      <td>NaN</td>\n",
       "      <td>NaN</td>\n",
       "      <td>NaN</td>\n",
       "      <td>NaN</td>\n",
       "      <td>NaN</td>\n",
       "      <td>NaN</td>\n",
       "    </tr>\n",
       "    <tr>\n",
       "      <th>2</th>\n",
       "      <td>26844789</td>\n",
       "      <td>enhanced</td>\n",
       "      <td>3.0</td>\n",
       "      <td>regional</td>\n",
       "      <td>replace OTT</td>\n",
       "      <td>36.001186</td>\n",
       "      <td>2.0</td>\n",
       "      <td>25.0</td>\n",
       "      <td>True</td>\n",
       "      <td>UAE</td>\n",
       "      <td>...</td>\n",
       "      <td>NaN</td>\n",
       "      <td>14</td>\n",
       "      <td>False</td>\n",
       "      <td>True</td>\n",
       "      <td>2.0</td>\n",
       "      <td>2.0</td>\n",
       "      <td>13.0</td>\n",
       "      <td>13.0</td>\n",
       "      <td>0.0</td>\n",
       "      <td>1.0</td>\n",
       "    </tr>\n",
       "    <tr>\n",
       "      <th>3</th>\n",
       "      <td>29417030</td>\n",
       "      <td>base</td>\n",
       "      <td>NaN</td>\n",
       "      <td>drama</td>\n",
       "      <td>replace OTT</td>\n",
       "      <td>20.051667</td>\n",
       "      <td>NaN</td>\n",
       "      <td>30.0</td>\n",
       "      <td>False</td>\n",
       "      <td>UAE</td>\n",
       "      <td>...</td>\n",
       "      <td>NaN</td>\n",
       "      <td>14</td>\n",
       "      <td>False</td>\n",
       "      <td>True</td>\n",
       "      <td>NaN</td>\n",
       "      <td>NaN</td>\n",
       "      <td>NaN</td>\n",
       "      <td>NaN</td>\n",
       "      <td>NaN</td>\n",
       "      <td>NaN</td>\n",
       "    </tr>\n",
       "    <tr>\n",
       "      <th>4</th>\n",
       "      <td>26723159</td>\n",
       "      <td>base</td>\n",
       "      <td>4.0</td>\n",
       "      <td>comedy</td>\n",
       "      <td>replace OTT</td>\n",
       "      <td>22.951579</td>\n",
       "      <td>3.0</td>\n",
       "      <td>28.0</td>\n",
       "      <td>False</td>\n",
       "      <td>UAE</td>\n",
       "      <td>...</td>\n",
       "      <td>NaN</td>\n",
       "      <td>14</td>\n",
       "      <td>True</td>\n",
       "      <td>True</td>\n",
       "      <td>NaN</td>\n",
       "      <td>NaN</td>\n",
       "      <td>NaN</td>\n",
       "      <td>NaN</td>\n",
       "      <td>NaN</td>\n",
       "      <td>NaN</td>\n",
       "    </tr>\n",
       "  </tbody>\n",
       "</table>\n",
       "<p>5 rows × 28 columns</p>\n",
       "</div>"
      ],
      "text/plain": [
       "      subid package_type  num_weekly_services_utilized preferred_genre  \\\n",
       "0  21724479      economy                           NaN          comedy   \n",
       "1  23383224         base                           NaN          comedy   \n",
       "2  26844789     enhanced                           3.0        regional   \n",
       "3  29417030         base                           NaN           drama   \n",
       "4  26723159         base                           4.0          comedy   \n",
       "\n",
       "                  intended_use  weekly_consumption_hour  \\\n",
       "0  access to exclusive content                      NaN   \n",
       "1  access to exclusive content                22.951579   \n",
       "2                  replace OTT                36.001186   \n",
       "3                  replace OTT                20.051667   \n",
       "4                  replace OTT                22.951579   \n",
       "\n",
       "   num_ideal_streaming_services   age male_TF country  ...      payment_type  \\\n",
       "0                           NaN   NaN   False     UAE  ...  Standard Charter   \n",
       "1                           NaN  70.0   False     UAE  ...               NaN   \n",
       "2                           2.0  25.0    True     UAE  ...               NaN   \n",
       "3                           NaN  30.0   False     UAE  ...               NaN   \n",
       "4                           3.0  28.0   False     UAE  ...               NaN   \n",
       "\n",
       "  num_trial_days current_sub_TF trial_completed  app_opens  \\\n",
       "0             14           True            True        NaN   \n",
       "1             14           True            True        NaN   \n",
       "2             14          False            True        2.0   \n",
       "3             14          False            True        NaN   \n",
       "4             14           True            True        NaN   \n",
       "\n",
       "   cust_service_mssgs  num_videos_completed num_videos_more_than_30_seconds  \\\n",
       "0                 NaN                   NaN                             NaN   \n",
       "1                 NaN                   NaN                             NaN   \n",
       "2                 2.0                  13.0                            13.0   \n",
       "3                 NaN                   NaN                             NaN   \n",
       "4                 NaN                   NaN                             NaN   \n",
       "\n",
       "  num_videos_rated  num_series_started  \n",
       "0              NaN                 NaN  \n",
       "1              NaN                 NaN  \n",
       "2              0.0                 1.0  \n",
       "3              NaN                 NaN  \n",
       "4              NaN                 NaN  \n",
       "\n",
       "[5 rows x 28 columns]"
      ]
     },
     "execution_count": 121,
     "metadata": {},
     "output_type": "execute_result"
    }
   ],
   "source": [
    "df.head()"
   ]
  },
  {
   "cell_type": "code",
   "execution_count": 122,
   "id": "1dffbca7",
   "metadata": {},
   "outputs": [],
   "source": [
    "age_median = df['age'].median()\n",
    "\n",
    "df['age'] = df.age.apply(lambda x: age_median if x > 80 else x)\n",
    "df = df.loc[(df[\"plan_type\"] == \"base_uae_14_day_trial\")|\n",
    "            (df[\"plan_type\"] == \"high_uae_14_day_trial\")|\n",
    "            (df[\"plan_type\"] == \"low_uae_no_trial\"),:]\n",
    "\n",
    "df['churn_TF'] = df.current_sub_TF.apply(lambda x: 1 if x == False else 0)\n",
    "df.drop('current_sub_TF',axis = 1,inplace=True)\n",
    "df = df.fillna(0)"
   ]
  },
  {
   "cell_type": "code",
   "execution_count": 123,
   "id": "91ccbdc1",
   "metadata": {},
   "outputs": [
    {
     "data": {
      "text/plain": [
       "subid                              0\n",
       "package_type                       0\n",
       "num_weekly_services_utilized       0\n",
       "preferred_genre                    0\n",
       "intended_use                       0\n",
       "weekly_consumption_hour            0\n",
       "num_ideal_streaming_services       0\n",
       "age                                0\n",
       "male_TF                            0\n",
       "country                            0\n",
       "attribution_technical              0\n",
       "attribution_survey                 0\n",
       "op_sys                             0\n",
       "plan_type                          0\n",
       "monthly_price                      0\n",
       "discount_price                     0\n",
       "join_fee                           0\n",
       "language                           0\n",
       "payment_type                       0\n",
       "num_trial_days                     0\n",
       "trial_completed                    0\n",
       "app_opens                          0\n",
       "cust_service_mssgs                 0\n",
       "num_videos_completed               0\n",
       "num_videos_more_than_30_seconds    0\n",
       "num_videos_rated                   0\n",
       "num_series_started                 0\n",
       "churn_TF                           0\n",
       "dtype: int64"
      ]
     },
     "execution_count": 123,
     "metadata": {},
     "output_type": "execute_result"
    }
   ],
   "source": [
    "df.isnull().sum()"
   ]
  },
  {
   "cell_type": "markdown",
   "id": "eebfa954",
   "metadata": {},
   "source": [
    "### Dataset Split and Encoding"
   ]
  },
  {
   "cell_type": "code",
   "execution_count": 127,
   "id": "93f10d55",
   "metadata": {},
   "outputs": [],
   "source": [
    "# split\n",
    "df_train, df_test = model_selection.train_test_split(df, test_size=0.3, random_state=22)\n",
    "\n",
    "y_train = df_train['churn_TF']\n",
    "x_train = df_train.drop('churn_TF',axis = 1)\n",
    "y_test = df_test['churn_TF']\n",
    "x_test = df_test.drop('churn_TF',axis = 1)"
   ]
  },
  {
   "cell_type": "code",
   "execution_count": 128,
   "id": "fdfb87b0",
   "metadata": {},
   "outputs": [],
   "source": [
    "# display numerical variables\n",
    "numeric_features = list(x_train.columns[x_train.dtypes != object])\n",
    "\n",
    "# display categorical variables\n",
    "categorical_features = list(x_train.columns[x_train.dtypes == object])\n",
    "\n",
    "# split categorical_features and numeric_features\n",
    "x_train_cat = x_train.loc[:,categorical_features].astype('str') \n",
    "x_train_num = x_train.loc[:,numeric_features]\n",
    "\n",
    "x_test_cat =  x_test.loc[:,categorical_features].astype('str')\n",
    "x_test_num = x_test.loc[:,numeric_features]\n",
    "\n",
    "# one-hot encoding for categorical variables\n",
    "one_hot = OneHotEncoder(sparse=False)\n",
    "x_train_cat = pd.DataFrame(one_hot.fit_transform(x_train_cat))\n",
    "x_test_cat = pd.DataFrame(one_hot.transform(x_test_cat))\n",
    "\n",
    "# normalize numerical features\n",
    "scaler = MinMaxScaler()\n",
    "x_train_num = pd.DataFrame(scaler.fit_transform(x_train_num))\n",
    "x_test_num = pd.DataFrame(scaler.transform(x_test_num))\n",
    "\n",
    "x_train_scale = pd.concat([x_train_cat,x_train_num],axis=1)\n",
    "x_test_scale =  pd.concat([x_test_cat,x_test_num],axis=1)"
   ]
  },
  {
   "cell_type": "markdown",
   "id": "e85931bb",
   "metadata": {},
   "source": [
    "### Logistic Regression Model"
   ]
  },
  {
   "cell_type": "code",
   "execution_count": 129,
   "id": "409e1374",
   "metadata": {},
   "outputs": [
    {
     "name": "stdout",
     "output_type": "stream",
     "text": [
      "Model auc: 0.945862\n",
      "Model accuracy score: 0.874043\n"
     ]
    }
   ],
   "source": [
    "log_reg = LogisticRegression(random_state=22)\n",
    "log_reg.fit(x_train_scale,y_train)\n",
    "\n",
    "lr_predictions = log_reg.predict(x_test_scale)\n",
    "lr_predictions_probs = log_reg.predict_proba(x_test_scale)[:, 1]\n",
    "lr_auc = roc_auc_score(y_test, lr_predictions_probs)\n",
    "print('Model auc: {0:0.6f}'.format(lr_auc))\n",
    "print('Model accuracy score: {0:0.6f}'.format(accuracy_score(y_test, lr_predictions)))"
   ]
  },
  {
   "cell_type": "code",
   "execution_count": 131,
   "id": "69833e99",
   "metadata": {
    "scrolled": false
   },
   "outputs": [
    {
     "data": {
      "image/png": "[encoded data removed]",
      "text/plain": [
       "<Figure size 500x500 with 1 Axes>"
      ]
     },
     "metadata": {},
     "output_type": "display_data"
    }
   ],
   "source": [
    "plt.figure(figsize=(5, 5))\n",
    "\n",
    "fpr, tpr, _ = roc_curve(y_test, lr_predictions_probs)\n",
    "plt.plot(fpr, tpr, color='darkgreen')\n",
    "\n",
    "plt.plot([0, 1], [0, 1], color='black', lw=0.7, linestyle='dashed', alpha=0.5)\n",
    "\n",
    "plt.xlim([-0.02, 1.02])\n",
    "plt.ylim([-0.02, 1.02])\n",
    "plt.xlabel('False Positive Rate')\n",
    "plt.ylabel('True Positive Rate')\n",
    "\n",
    "plt.title('Logistic Regression ROC curve')\n",
    "\n",
    "plt.show()"
   ]
  },
  {
   "cell_type": "markdown",
   "id": "57ee8959",
   "metadata": {},
   "source": [
    "### CatBoost"
   ]
  },
  {
   "cell_type": "code",
   "execution_count": 130,
   "id": "9905f83b",
   "metadata": {},
   "outputs": [
    {
     "data": {
      "application/vnd.jupyter.widget-view+json": {
       "model_id": "e6a9558d0a154cc390ddc2aa6ccfd652",
       "version_major": 2,
       "version_minor": 0
      },
      "text/plain": [
       "MetricVisualizer(layout=Layout(align_self='stretch', height='500px'))"
      ]
     },
     "metadata": {},
     "output_type": "display_data"
    },
    {
     "name": "stdout",
     "output_type": "stream",
     "text": [
      "The test AUC score is 0.955134.\n"
     ]
    }
   ],
   "source": [
    "np.random.seed(22)\n",
    "categorical_features_indices = np.where(x_train.dtypes != np.float64)[0]\n",
    "\n",
    "cb_model = CatBoostClassifier(\n",
    "    eval_metric = 'AUC',\n",
    "    custom_loss=['Accuracy'],\n",
    "    random_seed=22,\n",
    "    logging_level='Silent'\n",
    ")\n",
    "\n",
    "cb_model.fit(\n",
    "    x_train, y_train,\n",
    "    cat_features=categorical_features_indices,\n",
    "    eval_set=(x_test, y_test),\n",
    "    plot=True\n",
    ");\n",
    "\n",
    "cb_predictions = cb_model.predict(x_test)\n",
    "cb_predictions_probs = cb_model.predict_proba(x_test)[:,1]\n",
    "print(\"The test AUC score is %f.\" % (roc_auc_score(y_test, cb_predictions_probs)))"
   ]
  },
  {
   "cell_type": "code",
   "execution_count": null,
   "id": "755833da",
   "metadata": {},
   "outputs": [],
   "source": [
    "cb_predictions_probs"
   ]
  },
  {
   "cell_type": "code",
   "execution_count": 134,
   "id": "4646f19f",
   "metadata": {},
   "outputs": [
    {
     "data": {
      "text/plain": [
       "array([1.34943548e-03, 5.52242999e+00, 1.77278600e+01, 9.23339403e+00,\n",
       "       1.49668067e+01, 2.88235551e+00, 2.32104618e+00, 8.70472416e+00,\n",
       "       2.16045750e+00, 0.00000000e+00, 1.36981588e+00, 1.32978035e+01,\n",
       "       3.28281444e-01, 1.61968710e-01, 4.93464709e-03, 3.54058750e-03,\n",
       "       2.46669049e+00, 0.00000000e+00, 4.38969575e-01, 3.60181327e-03,\n",
       "       1.51739314e+01, 5.77192708e-01, 3.29443383e-01, 6.37525061e-01,\n",
       "       1.06259568e+00, 2.34575909e-01, 3.88705665e-01])"
      ]
     },
     "execution_count": 134,
     "metadata": {},
     "output_type": "execute_result"
    }
   ],
   "source": [
    "cb_model.get_feature_importance()"
   ]
  },
  {
   "cell_type": "code",
   "execution_count": 135,
   "id": "0f7aa34c",
   "metadata": {},
   "outputs": [],
   "source": [
    "# ------ DEFINE FUNCTIONS -----\n",
    "def apply_offers(df, threshold, base_price, discount_amount, cases, acceptance_rate_churn, acceptance_rate_nonchurn):\n",
    "    df_f = copy.deepcopy(df)\n",
    "\n",
    "    # set offer parameters for all observations\n",
    "    df_f['price_no_offer'] = base_price\n",
    "    df_f.loc[df_f['churn_TF'] == 1, 'price_no_offer'] = 0  # if the person churns they will pay 0\n",
    "\n",
    "    # determine whether indiviudals accept offer\n",
    "    df_f.loc[df_f['churn_TF'] == 1, 'accept_offer_prob'] = acceptance_rate_churn  # those who were going to churn are less likely to want the offer than those who were going to stay\n",
    "    df_f.loc[df_f['churn_TF'] == 0, 'accept_offer_prob'] = acceptance_rate_nonchurn\n",
    "    df_f['would_accept_offer_rand_draw'] = (df_f['random_draws'] < df_f['accept_offer_prob'])  # randomly select the individuals who would accept an offer based on their probability of acceptance\n",
    "\n",
    "    # make offer under logit predictions for select threshold\n",
    "    df_f['make_offer_logit'] = (df_f['prob_churn_logit'] > threshold)     # predict whether individual will churn or not\n",
    "    df_f['accept_offer_logit'] = (df_f['make_offer_logit'] & df_f['would_accept_offer_rand_draw'])\n",
    "    df_f['price_logit_offer'] = df_f['price_no_offer']  # initialize prices from \"do nothing case\"\n",
    "    df_f.loc[df_f['accept_offer_logit'], 'price_logit_offer'] = base_price * (1-discount_amount)    # for those who were both made an offer and would accept, set prices to discounted price\n",
    "\n",
    "    # make offer under cb predictions for select threshold\n",
    "    df_f['make_offer_cb'] = (df_f['prob_churn_cb'] > threshold)     # predict whether individual will churn or not\n",
    "    df_f['accept_offer_cb'] = (df_f['make_offer_cb'] & df_f['would_accept_offer_rand_draw'])\n",
    "    df_f['price_cb_offer'] = df_f['price_no_offer']  # initialize prices from \"do nothing case\"\n",
    "    df_f.loc[df_f['accept_offer_cb'], 'price_cb_offer'] = base_price * (1-discount_amount)    # for those who were both made an offer and would accept, set prices to discounted price\n",
    "    \n",
    "    df_impact = pd.DataFrame(index=cases, columns=['subs', 'revenue', 'lift_from_no_offer'])\n",
    "    for c in cases:\n",
    "        df_impact.loc[c, 'subs'] = (df_f['price_' + c] > 0).sum()\n",
    "        df_impact.loc[c, 'revenue'] = df_f['price_' + c].sum()\n",
    "    for c in cases:\n",
    "        df_impact.loc[c, 'lift_from_no_offer'] = df_impact.loc[c, 'revenue'] / df_impact.loc['no_offer', 'revenue'] - 1\n",
    "    return df_f, df_impact\n",
    "\n",
    "def get_gini_info(actual, pred_prob):\n",
    "    # format[[obs0_pred0, obs0_pred1], [obs1_pred0, obs1_pred1]]; rows (i) are observed, columns (j) are predicted\n",
    "    confusion_matrix_list = list()\n",
    "    for t in [x / 100 for x in range(0, 100, 33)]:\n",
    "        pred = [1 if (x > t) else 0 for x in pred_prob]\n",
    "        confusion_matrix_list.append(confusion_matrix(actual, pred))\n",
    "        # confusion_matrix_list.append(model.pred_table(threshold=t))\n",
    "\n",
    "    # create Gini coefficient plots\n",
    "    false_positives = list()\n",
    "    true_positives = list()\n",
    "    for t in confusion_matrix_list:\n",
    "        true_positives.append(t[1, 1])\n",
    "        false_positives.append(t[0, 1])\n",
    "\n",
    "    return confusion_matrix_list, false_positives, true_positives"
   ]
  },
  {
   "cell_type": "code",
   "execution_count": 136,
   "id": "17346739",
   "metadata": {},
   "outputs": [],
   "source": [
    "# ----- EVALUATE MODEL PERFORMANCE -----\n",
    "# --- evaluate model predictions on test set graphically\n",
    "df_test['prob_churn_logit'] = lr_predictions_probs\n",
    "#df_test['prob_churn_dt'] = dt_predictions_probs\n",
    "df_test['prob_churn_cb'] = cb_predictions_probs"
   ]
  },
  {
   "cell_type": "code",
   "execution_count": 137,
   "id": "87c6cbd8",
   "metadata": {
    "scrolled": true
   },
   "outputs": [
    {
     "data": {
      "text/plain": [
       "<matplotlib.legend.Legend at 0x7faa8f16cd90>"
      ]
     },
     "execution_count": 137,
     "metadata": {},
     "output_type": "execute_result"
    },
    {
     "data": {
      "image/png": "[encoded data removed]",
      "text/plain": [
       "<Figure size 640x480 with 1 Axes>"
      ]
     },
     "metadata": {},
     "output_type": "display_data"
    }
   ],
   "source": [
    "# --- evaluate model predictions using numerical quantification (ROC curves)\n",
    "# make confusion matrices\n",
    "logit_conf_mat, logit_false_positives, logit_true_positives = get_gini_info(df_test['churn_TF'], df_test['prob_churn_logit'])\n",
    "#dt_conf_mat, dt_false_positives, dt_true_positives = get_gini_info(df_test['churn_TF'], df_test['prob_churn_dt'])\n",
    "cb_conf_mat, cb_false_positives, cb_true_positives = get_gini_info(df_test['churn_TF'], df_test['prob_churn_cb'])\n",
    "\n",
    "# plot ROC curves\n",
    "# fig = plt.figure(figsize=(12, 8))\n",
    "ax1 = plt.gca()\n",
    "ax1.plot(logit_false_positives, logit_true_positives, 'r-')\n",
    "#ax1.plot(dt_false_positives, dt_true_positives, 'g-')\n",
    "ax1.plot(cb_false_positives, cb_true_positives, 'b-')\n",
    "plt.title('ROC curves')\n",
    "plt.xlabel('False positives (positive=churn)')\n",
    "plt.ylabel('True positives (positive=churn)')\n",
    "plt.legend(labels=['Logit probability','CatBoost'])\n",
    "#plt.legend(labels=['Logit probability','Decision tree','CatBoost'])"
   ]
  },
  {
   "cell_type": "code",
   "execution_count": null,
   "id": "6b001144",
   "metadata": {},
   "outputs": [],
   "source": []
  },
  {
   "cell_type": "markdown",
   "id": "66a2c64a",
   "metadata": {},
   "source": [
    "### A. Discount 5% off + acceptance rate 30% + threshold 0.5 (Current)"
   ]
  },
  {
   "cell_type": "code",
   "execution_count": 138,
   "id": "4df257f7",
   "metadata": {},
   "outputs": [],
   "source": [
    "# ----- TEST RETENTION OFFER SCENARIOS -----\n",
    "# evaluate the impact of an offer\n",
    "acceptance_rate_nonchurn = 1\n",
    "acceptance_rate_churn = 0.3\n",
    "threshold = 0.5\n",
    "base_price = subscribers_csv['monthly_price'].median()\n",
    "discount_amount = 0.05\n",
    "cases = ['no_offer', 'logit_offer', 'cb_offer']"
   ]
  },
  {
   "cell_type": "code",
   "execution_count": 140,
   "id": "557208d0",
   "metadata": {},
   "outputs": [
    {
     "name": "stdout",
     "output_type": "stream",
     "text": [
      "              subs       revenue lift_from_no_offer\n",
      "no_offer     38970    184495.671                0.0\n",
      "logit_offer  46279   216475.8675           0.173338\n",
      "cb_offer     46422  217160.44728           0.177049\n"
     ]
    }
   ],
   "source": [
    "# draw whether individual would accept an offer or not - assume probability of acceptance is independent of offer attractiveness\n",
    "df_test['random_draws'] = np.random.random(df_test.shape[0])\n",
    "\n",
    "# base assessment\n",
    "df_test, df_impact = apply_offers(df_test, threshold, base_price, discount_amount, cases, acceptance_rate_churn, acceptance_rate_nonchurn)\n",
    "\n",
    "print(df_impact)\n",
    "\n",
    "# test sensitivity to thresholds\n",
    "df_lift_threshold = pd.DataFrame(index=range(0, 100, 1), columns=['threshold'] + cases)\n",
    "for t_ind in df_lift_threshold.index:\n",
    "    t_threshold = t_ind / 100\n",
    "    _, t_df_impact = apply_offers(df_test, t_threshold, base_price, discount_amount, cases, acceptance_rate_churn, acceptance_rate_nonchurn)\n",
    "\n",
    "    df_lift_threshold.loc[t_ind, 'threshold'] = t_threshold\n",
    "    df_lift_threshold.loc[t_ind, cases] = t_df_impact.loc[cases, 'lift_from_no_offer']\n",
    "del t_df_impact, t_threshold, t_ind\n",
    "\n",
    "# test sensitivity to acceptance rate for churners\n",
    "df_lift_acceptance_rate_churn = pd.DataFrame(index=range(0, 100, 1), columns=['acceptance_rate_churn'] + cases)\n",
    "for t_ind in df_lift_acceptance_rate_churn.index:\n",
    "    t_acceptance_rate_churn = t_ind / 100\n",
    "    _, t_df_impact = apply_offers(df_test, threshold, base_price, discount_amount, cases, t_acceptance_rate_churn, acceptance_rate_nonchurn)\n",
    "\n",
    "    df_lift_acceptance_rate_churn.loc[t_ind, 'acceptance_rate_churn'] = t_acceptance_rate_churn\n",
    "    df_lift_acceptance_rate_churn.loc[t_ind, cases] = t_df_impact.loc[cases, 'lift_from_no_offer']\n",
    "del t_df_impact, t_acceptance_rate_churn, t_ind\n",
    "\n",
    "\n",
    "# test sensitivity to offer discount amount\n",
    "df_lift_discount_amount = pd.DataFrame(index=range(0, 100, 1), columns=['discount_amount'] + cases)\n",
    "for t_ind in df_lift_discount_amount.index:\n",
    "    t_discount_amount = t_ind / 100\n",
    "    _, t_df_impact = apply_offers(df_test, threshold, base_price, t_discount_amount, cases, acceptance_rate_churn, acceptance_rate_nonchurn)\n",
    "\n",
    "    df_lift_discount_amount.loc[t_ind, 'discount_amount'] = t_discount_amount\n",
    "    df_lift_discount_amount.loc[t_ind, cases] = t_df_impact.loc[cases, 'lift_from_no_offer']\n",
    "del t_df_impact, t_discount_amount, t_ind"
   ]
  },
  {
   "cell_type": "code",
   "execution_count": 141,
   "id": "656a57fc",
   "metadata": {},
   "outputs": [
    {
     "data": {
      "text/plain": [
       "<matplotlib.legend.Legend at 0x7faa9551f7f0>"
      ]
     },
     "execution_count": 141,
     "metadata": {},
     "output_type": "execute_result"
    },
    {
     "data": {
      "image/png": "[encoded data removed]",
      "text/plain": [
       "<Figure size 640x480 with 1 Axes>"
      ]
     },
     "metadata": {},
     "output_type": "display_data"
    },
    {
     "data": {
      "image/png": "[encoded data removed]",
      "text/plain": [
       "<Figure size 640x480 with 1 Axes>"
      ]
     },
     "metadata": {},
     "output_type": "display_data"
    },
    {
     "data": {
      "image/png": "[encoded data removed]",
      "text/plain": [
       "<Figure size 640x480 with 1 Axes>"
      ]
     },
     "metadata": {},
     "output_type": "display_data"
    }
   ],
   "source": [
    "# --- plot lift curves\n",
    "# Threshold sensitivity\n",
    "fig = plt.figure()\n",
    "ax1 = plt.gca()\n",
    "ax1.plot(df_lift_threshold['threshold'], df_lift_threshold['logit_offer'], 'r-')\n",
    "ax1.plot(df_lift_threshold['threshold'], df_lift_threshold['cb_offer'], 'b-')\n",
    "plt.title('Lift curves')\n",
    "plt.xlabel('Threshold probability for predicting customer churns')\n",
    "plt.ylabel('Revenue lift from base scenario of making no retention offer')\n",
    "plt.legend(labels=['Logit probability','CatBoost'])\n",
    "\n",
    "# Acceptance rate sensitivity\n",
    "fig = plt.figure()\n",
    "ax1 = plt.gca()\n",
    "ax1.plot(df_lift_acceptance_rate_churn['acceptance_rate_churn'], df_lift_acceptance_rate_churn['logit_offer'], 'r-')\n",
    "ax1.plot(df_lift_acceptance_rate_churn['acceptance_rate_churn'], df_lift_acceptance_rate_churn['cb_offer'], 'b-')\n",
    "plt.title('Lift curves')\n",
    "plt.xlabel('Offer acceptance rate for those who would churn')\n",
    "plt.ylabel('Revenue lift from base scenario of making no retention offer')\n",
    "plt.legend(labels=['Logit probability','CatBoost'])\n",
    "\n",
    "# Discount amount sensitivity\n",
    "fig = plt.figure()\n",
    "ax1 = plt.gca()\n",
    "ax1.plot(df_lift_discount_amount['discount_amount'], df_lift_discount_amount['logit_offer'], 'r-')\n",
    "ax1.plot(df_lift_discount_amount['discount_amount'], df_lift_discount_amount['cb_offer'], 'b-')\n",
    "plt.title('Lift curves')\n",
    "plt.xlabel('Offer discount amount')\n",
    "plt.ylabel('Revenue lift from base scenario of making no retention offer')\n",
    "plt.legend(labels=['Logit probability','CatBoost'])"
   ]
  },
  {
   "cell_type": "markdown",
   "id": "08038c79",
   "metadata": {},
   "source": [
    "### B. Discount 10% off + acceptance rate 20% + threshold 0.3 (lower as A)"
   ]
  },
  {
   "cell_type": "code",
   "execution_count": 142,
   "id": "2d30cd3f",
   "metadata": {},
   "outputs": [],
   "source": [
    "# ----- TEST RETENTION OFFER SCENARIOS -----\n",
    "# evaluate the impact of an offer\n",
    "acceptance_rate_nonchurn = 1\n",
    "acceptance_rate_churn = 0.2\n",
    "threshold = 0.3\n",
    "base_price = subscribers_csv['monthly_price'].median()\n",
    "discount_amount = 0.1\n",
    "cases = ['no_offer', 'logit_offer', 'cb_offer']"
   ]
  },
  {
   "cell_type": "code",
   "execution_count": 143,
   "id": "74a21bf3",
   "metadata": {},
   "outputs": [
    {
     "name": "stdout",
     "output_type": "stream",
     "text": [
      "              subs       revenue lift_from_no_offer\n",
      "no_offer     38970    184495.671                0.0\n",
      "logit_offer  44326  203856.59085            0.10494\n",
      "cb_offer     44345  204174.73581           0.106664\n"
     ]
    },
    {
     "data": {
      "text/plain": [
       "<matplotlib.legend.Legend at 0x7faa8faffe50>"
      ]
     },
     "execution_count": 143,
     "metadata": {},
     "output_type": "execute_result"
    },
    {
     "data": {
      "image/png": "[encoded data removed]",
      "text/plain": [
       "<Figure size 640x480 with 1 Axes>"
      ]
     },
     "metadata": {},
     "output_type": "display_data"
    },
    {
     "data": {
      "image/png": "[encoded data removed]",
      "text/plain": [
       "<Figure size 640x480 with 1 Axes>"
      ]
     },
     "metadata": {},
     "output_type": "display_data"
    },
    {
     "data": {
      "image/png": "[encoded data removed]",
      "text/plain": [
       "<Figure size 640x480 with 1 Axes>"
      ]
     },
     "metadata": {},
     "output_type": "display_data"
    }
   ],
   "source": [
    "# draw whether individual would accept an offer or not - assume probability of acceptance is independent of offer attractiveness\n",
    "df_test['random_draws'] = np.random.random(df_test.shape[0])\n",
    "\n",
    "# base assessment\n",
    "df_test, df_impact = apply_offers(df_test, threshold, base_price, discount_amount, cases, acceptance_rate_churn, acceptance_rate_nonchurn)\n",
    "\n",
    "# test sensitivity to thresholds\n",
    "df_lift_threshold = pd.DataFrame(index=range(0, 100, 1), columns=['threshold'] + cases)\n",
    "for t_ind in df_lift_threshold.index:\n",
    "    t_threshold = t_ind / 100\n",
    "    _, t_df_impact = apply_offers(df_test, t_threshold, base_price, discount_amount, cases, acceptance_rate_churn, acceptance_rate_nonchurn)\n",
    "\n",
    "    df_lift_threshold.loc[t_ind, 'threshold'] = t_threshold\n",
    "    df_lift_threshold.loc[t_ind, cases] = t_df_impact.loc[cases, 'lift_from_no_offer']\n",
    "del t_df_impact, t_threshold, t_ind\n",
    "\n",
    "# test sensitivity to acceptance rate for churners\n",
    "df_lift_acceptance_rate_churn = pd.DataFrame(index=range(0, 100, 1), columns=['acceptance_rate_churn'] + cases)\n",
    "for t_ind in df_lift_acceptance_rate_churn.index:\n",
    "    t_acceptance_rate_churn = t_ind / 100\n",
    "    _, t_df_impact = apply_offers(df_test, threshold, base_price, discount_amount, cases, t_acceptance_rate_churn, acceptance_rate_nonchurn)\n",
    "\n",
    "    df_lift_acceptance_rate_churn.loc[t_ind, 'acceptance_rate_churn'] = t_acceptance_rate_churn\n",
    "    df_lift_acceptance_rate_churn.loc[t_ind, cases] = t_df_impact.loc[cases, 'lift_from_no_offer']\n",
    "del t_df_impact, t_acceptance_rate_churn, t_ind\n",
    "\n",
    "# test sensitivity to offer discount amount\n",
    "df_lift_discount_amount = pd.DataFrame(index=range(0, 100, 1), columns=['discount_amount'] + cases)\n",
    "for t_ind in df_lift_discount_amount.index:\n",
    "    t_discount_amount = t_ind / 100\n",
    "    _, t_df_impact = apply_offers(df_test, threshold, base_price, t_discount_amount, cases, acceptance_rate_churn, acceptance_rate_nonchurn)\n",
    "\n",
    "    df_lift_discount_amount.loc[t_ind, 'discount_amount'] = t_discount_amount\n",
    "    df_lift_discount_amount.loc[t_ind, cases] = t_df_impact.loc[cases, 'lift_from_no_offer']\n",
    "del t_df_impact, t_discount_amount, t_ind\n",
    "\n",
    "print(df_impact)\n",
    "\n",
    "# --- plot lift curves\n",
    "# Threshold sensitivity\n",
    "fig = plt.figure()\n",
    "ax1 = plt.gca()\n",
    "ax1.plot(df_lift_threshold['threshold'], df_lift_threshold['logit_offer'], 'r-')\n",
    "ax1.plot(df_lift_threshold['threshold'], df_lift_threshold['cb_offer'], 'b-')\n",
    "plt.title('Lift curves')\n",
    "plt.xlabel('Threshold probability for predicting customer churns')\n",
    "plt.ylabel('Revenue lift from base scenario of making no retention offer')\n",
    "plt.legend(labels=['Logit probability','CatBoost'])\n",
    "\n",
    "# Acceptance rate sensitivity\n",
    "fig = plt.figure()\n",
    "ax1 = plt.gca()\n",
    "ax1.plot(df_lift_acceptance_rate_churn['acceptance_rate_churn'], df_lift_acceptance_rate_churn['logit_offer'], 'r-')\n",
    "ax1.plot(df_lift_acceptance_rate_churn['acceptance_rate_churn'], df_lift_acceptance_rate_churn['cb_offer'], 'b-')\n",
    "plt.title('Lift curves')\n",
    "plt.xlabel('Offer acceptance rate for those who would churn')\n",
    "plt.ylabel('Revenue lift from base scenario of making no retention offer')\n",
    "plt.legend(labels=['Logit probability','CatBoost'])\n",
    "\n",
    "# Discount amount sensitivity\n",
    "fig = plt.figure()\n",
    "ax1 = plt.gca()\n",
    "ax1.plot(df_lift_discount_amount['discount_amount'], df_lift_discount_amount['logit_offer'], 'r-')\n",
    "ax1.plot(df_lift_discount_amount['discount_amount'], df_lift_discount_amount['cb_offer'], 'b-')\n",
    "plt.title('Lift curves')\n",
    "plt.xlabel('Offer discount amount')\n",
    "plt.ylabel('Revenue lift from base scenario of making no retention offer')\n",
    "plt.legend(labels=['Logit probability','CatBoost'])"
   ]
  },
  {
   "cell_type": "markdown",
   "id": "5a612bf7",
   "metadata": {},
   "source": [
    "### C. Discount 5% off (same as A) + acceptance rate 30%(same as A)  + threshold 0.3 (lower than A)"
   ]
  },
  {
   "cell_type": "code",
   "execution_count": 149,
   "id": "000bdc2c",
   "metadata": {
    "scrolled": true
   },
   "outputs": [
    {
     "name": "stdout",
     "output_type": "stream",
     "text": [
      "              subs        revenue lift_from_no_offer\n",
      "no_offer     38970     184495.671                0.0\n",
      "logit_offer  47016  218953.089975           0.186765\n",
      "cb_offer     47024   219107.66487           0.187603\n"
     ]
    }
   ],
   "source": [
    "# ----- TEST RETENTION OFFER SCENARIOS -----\n",
    "# evaluate the impact of an offer\n",
    "acceptance_rate_nonchurn = 1\n",
    "acceptance_rate_churn = 0.3\n",
    "threshold = 0.3\n",
    "base_price = subscribers_csv['monthly_price'].median()\n",
    "discount_amount = 0.05\n",
    "cases = ['no_offer', 'logit_offer', 'cb_offer']\n",
    "\n",
    "# draw whether individual would accept an offer or not - assume probability of acceptance is independent of offer attractiveness\n",
    "df_test['random_draws'] = np.random.random(df_test.shape[0])\n",
    "\n",
    "# base assessment\n",
    "df_test, df_impact = apply_offers(df_test, threshold, base_price, discount_amount, cases, acceptance_rate_churn, acceptance_rate_nonchurn)\n",
    "\n",
    "print(df_impact)"
   ]
  },
  {
   "cell_type": "markdown",
   "id": "2452fc24",
   "metadata": {},
   "source": [
    "### D. Discount 5% off (same as A) + acceptance rate 30%(same as A)  + threshold 0.18 (lower than A)"
   ]
  },
  {
   "cell_type": "code",
   "execution_count": 150,
   "id": "b2adb9ec",
   "metadata": {
    "scrolled": true
   },
   "outputs": [
    {
     "name": "stdout",
     "output_type": "stream",
     "text": [
      "              subs        revenue lift_from_no_offer\n",
      "no_offer     38970     184495.671                0.0\n",
      "logit_offer  47353  219562.394385           0.190068\n",
      "cb_offer     47360  219823.727745           0.191484\n"
     ]
    }
   ],
   "source": [
    "# ----- TEST RETENTION OFFER SCENARIOS -----\n",
    "# evaluate the impact of an offer\n",
    "acceptance_rate_nonchurn = 1\n",
    "acceptance_rate_churn = 0.3\n",
    "threshold = 0.18\n",
    "base_price = subscribers_csv['monthly_price'].median()\n",
    "discount_amount = 0.05\n",
    "cases = ['no_offer', 'logit_offer', 'cb_offer']\n",
    "\n",
    "# draw whether individual would accept an offer or not - assume probability of acceptance is independent of offer attractiveness\n",
    "df_test['random_draws'] = np.random.random(df_test.shape[0])\n",
    "\n",
    "# base assessment\n",
    "df_test, df_impact = apply_offers(df_test, threshold, base_price, discount_amount, cases, acceptance_rate_churn, acceptance_rate_nonchurn)\n",
    "\n",
    "print(df_impact)"
   ]
  },
  {
   "cell_type": "markdown",
   "id": "833412b9",
   "metadata": {},
   "source": [
    "### E. Discount 5% off (same as A) + acceptance rate 30%(same as A)  + threshold 0.19 (lower than A)"
   ]
  },
  {
   "cell_type": "code",
   "execution_count": 151,
   "id": "2200e134",
   "metadata": {},
   "outputs": [
    {
     "name": "stdout",
     "output_type": "stream",
     "text": [
      "              subs        revenue lift_from_no_offer\n",
      "no_offer     38970     184495.671                0.0\n",
      "logit_offer  47476  220197.264015           0.193509\n",
      "cb_offer     47466   220374.56355            0.19447\n"
     ]
    }
   ],
   "source": [
    "# ----- TEST RETENTION OFFER SCENARIOS -----\n",
    "# evaluate the impact of an offer\n",
    "acceptance_rate_nonchurn = 1\n",
    "acceptance_rate_churn = 0.3\n",
    "threshold = 0.19\n",
    "base_price = subscribers_csv['monthly_price'].median()\n",
    "discount_amount = 0.05\n",
    "cases = ['no_offer', 'logit_offer', 'cb_offer']\n",
    "\n",
    "# draw whether individual would accept an offer or not - assume probability of acceptance is independent of offer attractiveness\n",
    "df_test['random_draws'] = np.random.random(df_test.shape[0])\n",
    "\n",
    "# base assessment\n",
    "df_test, df_impact = apply_offers(df_test, threshold, base_price, discount_amount, cases, acceptance_rate_churn, acceptance_rate_nonchurn)\n",
    "\n",
    "print(df_impact)"
   ]
  },
  {
   "cell_type": "markdown",
   "id": "70bba686",
   "metadata": {},
   "source": [
    "### F. Discount 10% off + acceptance rate 20% + threshold 0.33 (higher than B)"
   ]
  },
  {
   "cell_type": "code",
   "execution_count": 157,
   "id": "36f3bed4",
   "metadata": {
    "scrolled": true
   },
   "outputs": [
    {
     "name": "stdout",
     "output_type": "stream",
     "text": [
      "              subs       revenue lift_from_no_offer\n",
      "no_offer     38970    184495.671                0.0\n",
      "logit_offer  44387  204445.06434           0.108129\n",
      "cb_offer     44431  204818.60061           0.110154\n"
     ]
    }
   ],
   "source": [
    "# ----- TEST RETENTION OFFER SCENARIOS -----\n",
    "# evaluate the impact of an offer\n",
    "acceptance_rate_nonchurn = 1\n",
    "acceptance_rate_churn = 0.2\n",
    "threshold = 0.33\n",
    "base_price = subscribers_csv['monthly_price'].median()\n",
    "discount_amount = 0.1\n",
    "cases = ['no_offer', 'logit_offer', 'cb_offer']\n",
    "\n",
    "# draw whether individual would accept an offer or not - assume probability of acceptance is independent of offer attractiveness\n",
    "df_test['random_draws'] = np.random.random(df_test.shape[0])\n",
    "\n",
    "# base assessment\n",
    "df_test, df_impact = apply_offers(df_test, threshold, base_price, discount_amount, cases, acceptance_rate_churn, acceptance_rate_nonchurn)\n",
    "\n",
    "print(df_impact)"
   ]
  },
  {
   "cell_type": "markdown",
   "id": "f06e1bad",
   "metadata": {},
   "source": [
    "### G. Discount 10% off + acceptance rate 40%(higher than F) + threshold 0.4 (higher than F)"
   ]
  },
  {
   "cell_type": "code",
   "execution_count": 158,
   "id": "1eab083c",
   "metadata": {},
   "outputs": [
    {
     "name": "stdout",
     "output_type": "stream",
     "text": [
      "              subs       revenue lift_from_no_offer\n",
      "no_offer     38970    184495.671                0.0\n",
      "logit_offer  49262  225828.00372           0.224029\n",
      "cb_offer     49414  226599.22119           0.228209\n"
     ]
    }
   ],
   "source": [
    "# ----- TEST RETENTION OFFER SCENARIOS -----\n",
    "# evaluate the impact of an offer\n",
    "acceptance_rate_nonchurn = 1\n",
    "acceptance_rate_churn = 0.4\n",
    "threshold = 0.4\n",
    "base_price = subscribers_csv['monthly_price'].median()\n",
    "discount_amount = 0.1\n",
    "cases = ['no_offer', 'logit_offer', 'cb_offer']\n",
    "\n",
    "# draw whether individual would accept an offer or not - assume probability of acceptance is independent of offer attractiveness\n",
    "df_test['random_draws'] = np.random.random(df_test.shape[0])\n",
    "\n",
    "# base assessment\n",
    "df_test, df_impact = apply_offers(df_test, threshold, base_price, discount_amount, cases, acceptance_rate_churn, acceptance_rate_nonchurn)\n",
    "\n",
    "print(df_impact)"
   ]
  },
  {
   "cell_type": "markdown",
   "id": "5a88d69a",
   "metadata": {},
   "source": [
    "### H. Discount 5% off + acceptance rate 40% + threshold 0.18 "
   ]
  },
  {
   "cell_type": "code",
   "execution_count": 160,
   "id": "d94ac886",
   "metadata": {},
   "outputs": [
    {
     "name": "stdout",
     "output_type": "stream",
     "text": [
      "              subs        revenue lift_from_no_offer\n",
      "no_offer     38970     184495.671                0.0\n",
      "logit_offer  50060   231737.35698           0.256059\n",
      "cb_offer     50042  231886.250715           0.256866\n"
     ]
    }
   ],
   "source": [
    "# ----- TEST RETENTION OFFER SCENARIOS -----\n",
    "# evaluate the impact of an offer\n",
    "acceptance_rate_nonchurn = 1\n",
    "acceptance_rate_churn = 0.4\n",
    "threshold = 0.18\n",
    "base_price = subscribers_csv['monthly_price'].median()\n",
    "discount_amount = 0.05\n",
    "cases = ['no_offer', 'logit_offer', 'cb_offer']\n",
    "\n",
    "# draw whether individual would accept an offer or not - assume probability of acceptance is independent of offer attractiveness\n",
    "df_test['random_draws'] = np.random.random(df_test.shape[0])\n",
    "\n",
    "# base assessment\n",
    "df_test, df_impact = apply_offers(df_test, threshold, base_price, discount_amount, cases, acceptance_rate_churn, acceptance_rate_nonchurn)\n",
    "\n",
    "print(df_impact)"
   ]
  },
  {
   "cell_type": "code",
   "execution_count": null,
   "id": "2ed587b2",
   "metadata": {},
   "outputs": [],
   "source": []
  }
 ],
 "metadata": {
  "kernelspec": {
   "display_name": "Python 3 (ipykernel)",
   "language": "python",
   "name": "python3"
  },
  "language_info": {
   "codemirror_mode": {
    "name": "ipython",
    "version": 3
   },
   "file_extension": ".py",
   "mimetype": "text/x-python",
   "name": "python",
   "nbconvert_exporter": "python",
   "pygments_lexer": "ipython3",
   "version": "3.9.13"
  }
 },
 "nbformat": 4,
 "nbformat_minor": 5
}
